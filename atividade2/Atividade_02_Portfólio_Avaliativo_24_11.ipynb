{
  "nbformat": 4,
  "nbformat_minor": 0,
  "metadata": {
    "colab": {
      "provenance": []
    },
    "kernelspec": {
      "name": "python3",
      "display_name": "Python 3"
    },
    "language_info": {
      "name": "python"
    }
  },
  "cells": [
    {
      "cell_type": "markdown",
      "source": [
        "1. Crie uma função que receba uma lista de números e retorne uma lista contendo apenas os números ímpares."
      ],
      "metadata": {
        "id": "oEaitYlXi-bP"
      }
    },
    {
      "cell_type": "code",
      "execution_count": 2,
      "metadata": {
        "colab": {
          "base_uri": "https://localhost:8080/"
        },
        "id": "no_lzWS5i2VS",
        "outputId": "a10a361f-ba68-4229-8cba-b6567baa7e94"
      },
      "outputs": [
        {
          "output_type": "stream",
          "name": "stdout",
          "text": [
            "Números ímpares: [1, 3, 5, 7, 9]\n"
          ]
        }
      ],
      "source": [
        "def impares(lista):\n",
        "  return [num for num in lista if num % 2 != 0]\n",
        "\n",
        "\n",
        "numeros = [1, 2, 3, 4, 5, 6, 7, 8, 9, 10]\n",
        "resultado = impares(numeros)\n",
        "print(\"Números ímpares:\", resultado)"
      ]
    },
    {
      "cell_type": "markdown",
      "source": [
        "2. Escreva uma função que receba uma lista e retorne uma nova lista com o dobro de cada elemento."
      ],
      "metadata": {
        "id": "H0W2nMlQpXQE"
      }
    },
    {
      "cell_type": "code",
      "source": [
        "def dobro(lista):\n",
        "  return [num * 2 for num in lista]\n",
        "\n",
        "numeros = [1, 2, 3, 4, 5, 6, 7, 8, 9, 10]\n",
        "resultado = dobro(numeros)\n",
        "print(\"Dobro da lista:\", resultado)"
      ],
      "metadata": {
        "colab": {
          "base_uri": "https://localhost:8080/"
        },
        "id": "GsYOi1pmpW2b",
        "outputId": "362dc028-f689-4f7f-f1b3-26689f332a80"
      },
      "execution_count": 4,
      "outputs": [
        {
          "output_type": "stream",
          "name": "stdout",
          "text": [
            "Dobro da lista: [2, 4, 6, 8, 10, 12, 14, 16, 18, 20]\n"
          ]
        }
      ]
    },
    {
      "cell_type": "markdown",
      "source": [
        "3. Faça uma função que receba uma lista e retorne uma lista sem duplicatas."
      ],
      "metadata": {
        "id": "O9gLpPa-sUCa"
      }
    },
    {
      "cell_type": "code",
      "source": [
        "def remover_duplicatas(lista):\n",
        "  return list(set(lista))\n",
        "\n",
        "numeros = [1, 2, 2, 3, 4, 4, 5, 6, 6, 7, 8, 8, 9, 10]\n",
        "resultado = remover_duplicatas(numeros)\n",
        "print(\"A lista sem as duplicatas:\", resultado)"
      ],
      "metadata": {
        "colab": {
          "base_uri": "https://localhost:8080/"
        },
        "id": "aTHt9hsosUYf",
        "outputId": "21a34ce4-7afe-4f25-9f84-bc32311aab8a"
      },
      "execution_count": 5,
      "outputs": [
        {
          "output_type": "stream",
          "name": "stdout",
          "text": [
            "A lista sem as duplicatas: [1, 2, 3, 4, 5, 6, 7, 8, 9, 10]\n"
          ]
        }
      ]
    },
    {
      "cell_type": "markdown",
      "source": [
        "4. Crie uma função que receba uma lista e um valor divisor e retorne uma lista dos elementos que são divisíveis pelo divisor."
      ],
      "metadata": {
        "id": "fIu4TCSzvSYw"
      }
    },
    {
      "cell_type": "code",
      "source": [
        "def divisiveis(lista, divisor):\n",
        "  return [num for num in lista if num % divisor == 0]\n",
        "\n",
        "numeros = [1, 2, 3, 4, 5, 6, 7, 8, 9, 10]\n",
        "divisor = 2\n",
        "resultado = divisiveis(numeros, divisor)\n",
        "print(f\"Números divisiveis por {divisor}:\", resultado)"
      ],
      "metadata": {
        "colab": {
          "base_uri": "https://localhost:8080/"
        },
        "id": "XZGZ0EfvvS3H",
        "outputId": "51940335-efd6-4413-af6d-ef83c8b4a2fa"
      },
      "execution_count": 7,
      "outputs": [
        {
          "output_type": "stream",
          "name": "stdout",
          "text": [
            "Números divisiveis por 2: [2, 4, 6, 8, 10]\n"
          ]
        }
      ]
    },
    {
      "cell_type": "markdown",
      "source": [
        "5. Escreva uma função que receba duas listas e retorne um conjunto com os elementos que aparecem em ambas."
      ],
      "metadata": {
        "id": "nMXwiem3yfCm"
      }
    },
    {
      "cell_type": "code",
      "source": [
        "def intersecao(lista1, lista2):\n",
        "  return (lista1) + (lista2)\n",
        "\n",
        "lista1 = [1,2,3,4,5]\n",
        "lista2 = [4,5,6,7,8]\n",
        "resultado = intersecao(lista1, lista2)\n",
        "print(\"Elementos em ambas:\", resultado)\n"
      ],
      "metadata": {
        "colab": {
          "base_uri": "https://localhost:8080/"
        },
        "id": "eIlrL_lXyl-D",
        "outputId": "dc10b678-c1ea-474d-af57-ae52b0f5d04b"
      },
      "execution_count": 25,
      "outputs": [
        {
          "output_type": "stream",
          "name": "stdout",
          "text": [
            "Elementos em ambas: [1, 2, 3, 4, 5, 4, 5, 6, 7, 8]\n"
          ]
        }
      ]
    },
    {
      "cell_type": "markdown",
      "source": [
        "6. Crie uma função que receba uma lista e retorne uma nova lista com os elementos em ordem inversa."
      ],
      "metadata": {
        "id": "LIsEgsGnz7xp"
      }
    },
    {
      "cell_type": "code",
      "source": [
        "def inversa (lista):\n",
        "  return lista[::-1]\n",
        "\n",
        "numeros = [1, 2, 3, 4, 5, 6, 7, 8, 9, 10]\n",
        "resultado = inversa(numeros)\n",
        "print(\"Lista inversa:\", resultado)"
      ],
      "metadata": {
        "colab": {
          "base_uri": "https://localhost:8080/"
        },
        "id": "pGbjSFlQz_3t",
        "outputId": "42c178b8-fe90-45ab-d472-f4804fde6d29"
      },
      "execution_count": 9,
      "outputs": [
        {
          "output_type": "stream",
          "name": "stdout",
          "text": [
            "Lista inversa: [10, 9, 8, 7, 6, 5, 4, 3, 2, 1]\n"
          ]
        }
      ]
    },
    {
      "cell_type": "markdown",
      "source": [
        "7. Escreva uma função que receba uma lista de números e retorne uma lista contendo o quadrado de cada número."
      ],
      "metadata": {
        "id": "mxfY13vj0szo"
      }
    },
    {
      "cell_type": "code",
      "source": [
        "def quadrado(lista):\n",
        "  return [num ** 2 for num in lista]\n",
        "\n",
        "numeros = [1, 2, 3, 4, 5, 6, 7, 8, 9, 10]\n",
        "resultado = quadrado(numeros)\n",
        "print(\"Quadrado da lista:\", resultado)"
      ],
      "metadata": {
        "colab": {
          "base_uri": "https://localhost:8080/"
        },
        "id": "NpZGQFjh0vvN",
        "outputId": "e44d4434-5462-44f0-b31c-dee67d3b10b3"
      },
      "execution_count": 11,
      "outputs": [
        {
          "output_type": "stream",
          "name": "stdout",
          "text": [
            "Quadrado da lista: [1, 4, 9, 16, 25, 36, 49, 64, 81, 100]\n"
          ]
        }
      ]
    },
    {
      "cell_type": "markdown",
      "source": [
        "8. Crie uma função que receba uma lista e um valor, e retorne uma lista com os elementos maiores que esse valor."
      ],
      "metadata": {
        "id": "CDbrPjWS2bA-"
      }
    },
    {
      "cell_type": "code",
      "source": [
        "def maiores(lista,valor):\n",
        "  return [num for num in lista if num > valor]\n",
        "\n",
        "numeros = [1, 2, 3, 4, 5, 6, 7, 8, 9, 10]\n",
        "valor = 5\n",
        "resultado = maiores(numeros, valor)\n",
        "print(f\"Números maiores que {valor}:\", resultado)"
      ],
      "metadata": {
        "colab": {
          "base_uri": "https://localhost:8080/"
        },
        "id": "jhjqYjsO2ZbU",
        "outputId": "fcbf4e1e-d2b0-4096-fb4e-3ce43cc0500c"
      },
      "execution_count": 10,
      "outputs": [
        {
          "output_type": "stream",
          "name": "stdout",
          "text": [
            "Números maiores que 5: [6, 7, 8, 9, 10]\n"
          ]
        }
      ]
    },
    {
      "cell_type": "markdown",
      "source": [
        "9. Escreva uma função que receba duas listas e retorne uma lista dos elementos que estão em apenas uma das listas."
      ],
      "metadata": {
        "id": "QmaGv2Z03usf"
      }
    },
    {
      "cell_type": "code",
      "source": [
        "def unicos(lista1, lista2):\n",
        "  return set(lista1) ^ set(lista2)\n",
        "\n",
        "lista1 = [1,2,3,4,5]\n",
        "lista2 = [4,5,6,7,8]\n",
        "resultado = unicos(lista1, lista2)\n",
        "print(\"Elementos únicos:\", resultado)"
      ],
      "metadata": {
        "colab": {
          "base_uri": "https://localhost:8080/"
        },
        "id": "ljLtf-Q73sc6",
        "outputId": "45073a41-d06a-467d-8aaf-c5c424b5b4b1"
      },
      "execution_count": 15,
      "outputs": [
        {
          "output_type": "stream",
          "name": "stdout",
          "text": [
            "Elementos únicos: {1, 2, 3, 6, 7, 8}\n"
          ]
        }
      ]
    },
    {
      "cell_type": "markdown",
      "source": [
        "10. Faça uma função que receba uma lista e retorne um conjunto dos elementos únicos."
      ],
      "metadata": {
        "id": "a2jDEt0e5lc8"
      }
    },
    {
      "cell_type": "code",
      "source": [
        "def unicos(lista):\n",
        "  return set(lista)\n",
        "\n",
        "numeros = [1, 2, 2, 3, 4, 4, 5, 6, 6, 7, 8, 8, 9, 10]\n",
        "resultado = unicos(numeros)\n",
        "print(\"Conjunto dos elementos únicos:\", resultado)"
      ],
      "metadata": {
        "colab": {
          "base_uri": "https://localhost:8080/"
        },
        "id": "dGwoS-v05nuj",
        "outputId": "ef105079-f6fb-4905-9497-aa8a86355204"
      },
      "execution_count": 17,
      "outputs": [
        {
          "output_type": "stream",
          "name": "stdout",
          "text": [
            "Conjunto dos elementos únicos: {1, 2, 3, 4, 5, 6, 7, 8, 9, 10}\n"
          ]
        }
      ]
    },
    {
      "cell_type": "markdown",
      "source": [
        "11. Crie uma função que receba duas listas e retorne uma lista dos elementos únicos que estão em ambas."
      ],
      "metadata": {
        "id": "fPcI1kcF6BMc"
      }
    },
    {
      "cell_type": "code",
      "source": [
        "def elementos_unicos(lista1, lista2):\n",
        "  return set(lista1) & set(lista2)\n",
        "\n",
        "numeros = [1, 2, 2, 3, 4, 4, 5, 6, 6, 7, 8, 8, 9, 10]\n",
        "numeros2 = [1, 2, 3, 4, 4, 5, 6, 6, 7, 8, 8, 9, 10]\n",
        "resultado = elementos_unicos(numeros, numeros2)\n",
        "print(\"Elementos únicos em ambas as listas:\", resultado)"
      ],
      "metadata": {
        "colab": {
          "base_uri": "https://localhost:8080/"
        },
        "id": "13wiJFtF6C_t",
        "outputId": "9c0b8f2a-54dc-492b-de31-8f7913af0a0f"
      },
      "execution_count": 26,
      "outputs": [
        {
          "output_type": "stream",
          "name": "stdout",
          "text": [
            "Elementos únicos em ambas as listas: {1, 2, 3, 4, 5, 6, 7, 8, 9, 10}\n"
          ]
        }
      ]
    },
    {
      "cell_type": "markdown",
      "source": [
        "12. Escreva uma função que receba uma lista e retorne uma lista contendo os elementos que aparecem mais de uma vez."
      ],
      "metadata": {
        "id": "GJY0qoiBBx2C"
      }
    },
    {
      "cell_type": "code",
      "source": [
        "def repetidos(lista):\n",
        "  return [num for num in set(lista) if lista.count(num) > 1]\n",
        "\n",
        "numeros = [1, 2, 3, 4, 5, 1, 2, 6, 7, 2]\n",
        "resultado = repetidos(numeros)\n",
        "print(\"Elementos que aparecem mais de uma vez:\", resultado)"
      ],
      "metadata": {
        "colab": {
          "base_uri": "https://localhost:8080/"
        },
        "id": "4z4c1OeyB0nU",
        "outputId": "0d80381b-98f3-4e1e-9071-c34a03edb14a"
      },
      "execution_count": 27,
      "outputs": [
        {
          "output_type": "stream",
          "name": "stdout",
          "text": [
            "Elementos que aparecem mais de uma vez: [1, 2]\n"
          ]
        }
      ]
    },
    {
      "cell_type": "code",
      "source": [
        "def pares(lista):\n",
        "  return [num for num in lista if num % 2 == 0]\n",
        "\n",
        "numeros = [1, 2, 3, 4, 5, 6, 7, 8, 9, 10]\n",
        "resultado = pares(numeros)\n",
        "print(\"Números pares:\", resultado)"
      ],
      "metadata": {
        "colab": {
          "base_uri": "https://localhost:8080/"
        },
        "id": "1y3KB96jEX7y",
        "outputId": "382374ec-2b0f-4900-862a-48a0fef674d3"
      },
      "execution_count": 28,
      "outputs": [
        {
          "output_type": "stream",
          "name": "stdout",
          "text": [
            "Números pares: [2, 4, 6, 8, 10]\n"
          ]
        }
      ]
    },
    {
      "cell_type": "markdown",
      "source": [
        "14. Escreva uma função que receba uma lista de números e um valor, e retorne uma lista com os índices dos elementos maiores que o valor."
      ],
      "metadata": {
        "id": "PmWEwLeoFZbn"
      }
    },
    {
      "cell_type": "code",
      "source": [
        "def maiores_indices(lista, valor):\n",
        "  return [i for i, num in enumerate(lista) if num > valor]\n",
        "\n",
        "numeros = [1, 2, 3, 4, 5, 6, 7, 8, 9, 10]\n",
        "valor = 5\n",
        "resultado = maiores_indices(numeros, valor)\n",
        "print(f\"Índices dos elementos maiores que {valor}:\", resultado)"
      ],
      "metadata": {
        "colab": {
          "base_uri": "https://localhost:8080/"
        },
        "id": "Gt5tQlbgFaAg",
        "outputId": "ac28f6da-c0fc-4926-94e3-2492c20872f9"
      },
      "execution_count": 29,
      "outputs": [
        {
          "output_type": "stream",
          "name": "stdout",
          "text": [
            "Índices dos elementos maiores que 5: [5, 6, 7, 8, 9]\n"
          ]
        }
      ]
    },
    {
      "cell_type": "markdown",
      "source": [
        "15. Crie uma função que receba uma lista de strings e retorne uma lista com o tamanho de cada string."
      ],
      "metadata": {
        "id": "qYO6_wMkGKjJ"
      }
    },
    {
      "cell_type": "code",
      "source": [
        "def tamanho(lista):\n",
        "  return [len(s) for s in lista]\n",
        "\n",
        "strings = [\"Olá\", \"mundo\", \"Python\", \"listas\"]\n",
        "resultado = tamanho(strings)\n",
        "print(\"Tamanho das strings:\", resultado)"
      ],
      "metadata": {
        "colab": {
          "base_uri": "https://localhost:8080/"
        },
        "id": "L0Gl-AmLGMel",
        "outputId": "3d6424aa-b23e-4694-f449-f53c169d7068"
      },
      "execution_count": 30,
      "outputs": [
        {
          "output_type": "stream",
          "name": "stdout",
          "text": [
            "Tamanho das strings: [3, 5, 6, 6]\n"
          ]
        }
      ]
    },
    {
      "cell_type": "markdown",
      "source": [
        "16. Escreva uma função que receba uma lista de números e retorne uma lista contendo cada número elevado ao cubo."
      ],
      "metadata": {
        "id": "qavtJKr4G_0Z"
      }
    },
    {
      "cell_type": "code",
      "source": [
        "def cubo(lista):\n",
        "  return [num ** 3 for num in lista]\n",
        "\n",
        "numeros = [1, 2, 3, 4, 5, 6, 7, 8, 9, 10]\n",
        "resultado = cubo(numeros)\n",
        "print(\"Cubo da lista:\", resultado)"
      ],
      "metadata": {
        "colab": {
          "base_uri": "https://localhost:8080/"
        },
        "id": "tKwUtfczHALw",
        "outputId": "c216eaa2-7eb1-4c06-9eca-25b30a037637"
      },
      "execution_count": 31,
      "outputs": [
        {
          "output_type": "stream",
          "name": "stdout",
          "text": [
            "Cubo da lista: [1, 8, 27, 64, 125, 216, 343, 512, 729, 1000]\n"
          ]
        }
      ]
    },
    {
      "cell_type": "markdown",
      "source": [
        "17. Crie uma função que receba uma lista e retorne uma lista de todos os elementos únicos."
      ],
      "metadata": {
        "id": "usiykEBwHqi4"
      }
    },
    {
      "cell_type": "code",
      "source": [
        "def unicos(lista):\n",
        "  return list(set(lista))\n",
        "\n",
        "itens = [1, \"gato\", 2, \"gato\", 3, 2, \"cachorro\", 1]\n",
        "resultado = unicos(itens)\n",
        "print(resultado)"
      ],
      "metadata": {
        "colab": {
          "base_uri": "https://localhost:8080/"
        },
        "id": "FDMKDU83HrEr",
        "outputId": "b39cd5d5-2e3c-4670-af73-2086fe5c2092"
      },
      "execution_count": 36,
      "outputs": [
        {
          "output_type": "stream",
          "name": "stdout",
          "text": [
            "{'cachorro', 1, 2, 3, 'gato'}\n"
          ]
        }
      ]
    },
    {
      "cell_type": "markdown",
      "source": [
        "18. Escreva uma função que receba uma lista de strings e retorne uma lista contendo as strings que começam com uma letra maiúscula."
      ],
      "metadata": {
        "id": "6RX6IFikJihc"
      }
    },
    {
      "cell_type": "code",
      "source": [
        "def maiuscula(lista):\n",
        "  return [s for s in lista if s[0].isupper()]\n",
        "\n",
        "strings = [\"Olá\", \"Mundo\", \"python\", \"Listas\"]\n",
        "resultado = maiuscula(strings)\n",
        "print(\"Strings com a primeira letra maiúscula:\", resultado)"
      ],
      "metadata": {
        "colab": {
          "base_uri": "https://localhost:8080/"
        },
        "id": "q_-hQo3VJrV8",
        "outputId": "f119bc30-df60-424d-935a-eeaf50435f77"
      },
      "execution_count": 38,
      "outputs": [
        {
          "output_type": "stream",
          "name": "stdout",
          "text": [
            "Strings com a primeira letra maiúscula: ['Olá', 'Mundo', 'Listas']\n"
          ]
        }
      ]
    },
    {
      "cell_type": "markdown",
      "source": [
        "19. Faça uma função que receba uma lista de números e retorne uma lista contendo apenas os múltiplos de 3."
      ],
      "metadata": {
        "id": "qK7kecvPKc-i"
      }
    },
    {
      "cell_type": "code",
      "source": [
        "def multiplo(lista):\n",
        "  return [num for num in lista if num % 3 == 0]\n",
        "\n",
        "numeros = [1, 2, 3, 4, 5, 6, 7, 8, 9, 10]\n",
        "resultado = multiplo(numeros)\n",
        "print(\"Múltiplos de 3:\", resultado)"
      ],
      "metadata": {
        "colab": {
          "base_uri": "https://localhost:8080/"
        },
        "id": "GPA5A5ZcKfGJ",
        "outputId": "a031acbe-05f4-48b8-bb5f-2c343b5d9381"
      },
      "execution_count": 41,
      "outputs": [
        {
          "output_type": "stream",
          "name": "stdout",
          "text": [
            "Múltiplos de 3: [3, 6, 9]\n"
          ]
        }
      ]
    },
    {
      "cell_type": "markdown",
      "source": [
        "20. Escreva uma função que receba duas listas e retorne uma lista com a interseção ordenada de forma crescente entre elas."
      ],
      "metadata": {
        "id": "Z03wROAdLhkN"
      }
    },
    {
      "cell_type": "code",
      "source": [
        "def interseccao_ordenada(lista1, lista2):\n",
        "    intersecao = list(set(lista1) & set(lista2))\n",
        "    intersecao.sort()\n",
        "    return intersecao\n",
        "\n",
        "lista1 = [1, 2, 3, 4, 5]\n",
        "lista2 = [3, 4, 5, 6, 7]\n",
        "resultado = interseccao_ordenada(lista1, lista2)\n",
        "print(\"A lista com a interseção ordenada de forma crescente entre elas:\", resultado)"
      ],
      "metadata": {
        "colab": {
          "base_uri": "https://localhost:8080/"
        },
        "id": "ntKmwcU7Lh2s",
        "outputId": "3c1054e3-81fa-4a5e-d586-c3d0be93b460"
      },
      "execution_count": 43,
      "outputs": [
        {
          "output_type": "stream",
          "name": "stdout",
          "text": [
            "A lista com a interseção ordenada de forma crescente entre elas: [3, 4, 5]\n"
          ]
        }
      ]
    }
  ]
}
