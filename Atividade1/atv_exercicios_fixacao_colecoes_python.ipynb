{
  "nbformat": 4,
  "nbformat_minor": 0,
  "metadata": {
    "colab": {
      "provenance": []
    },
    "kernelspec": {
      "name": "python3",
      "display_name": "Python 3"
    },
    "language_info": {
      "name": "python"
    }
  },
  "cells": [
    {
      "cell_type": "markdown",
      "source": [
        "1. Crie uma lista contendo cinco números inteiros de sua escolha. Em seguida, percorra essa lista e imprima o valor de cada elemento multiplicado por 2. O resultado deve mostrar o novo valor de cada elemento, um por vez."
      ],
      "metadata": {
        "id": "LS22BC-ThhYI"
      }
    },
    {
      "cell_type": "code",
      "execution_count": 2,
      "metadata": {
        "colab": {
          "base_uri": "https://localhost:8080/"
        },
        "id": "YXtOtujbhcro",
        "outputId": "029a1b51-096c-40b3-8d07-50fb201b2237"
      },
      "outputs": [
        {
          "output_type": "stream",
          "name": "stdout",
          "text": [
            "O número antigo era 3 e agora multiplicado ficou 6.\n",
            "O número antigo era 7 e agora multiplicado ficou 14.\n",
            "O número antigo era 1 e agora multiplicado ficou 2.\n",
            "O número antigo era 5 e agora multiplicado ficou 10.\n",
            "O número antigo era 9 e agora multiplicado ficou 18.\n"
          ]
        }
      ],
      "source": [
        "numeros = [3, 7, 1, 5, 9]\n",
        "\n",
        "for numero in numeros:\n",
        "    novo_valor = numero * 2\n",
        "    print(f\"O número antigo era {numero} e agora multiplicado ficou {novo_valor}.\")"
      ]
    },
    {
      "cell_type": "markdown",
      "source": [
        "2. Dada a lista [\"maçã\", \"banana\", \"laranja\", \"uva\"], remova o item \"banana\" da lista e adicione a fruta \"melancia\" no lugar. Depois, mostre a nova lista atualizada com as alterações feitas."
      ],
      "metadata": {
        "id": "iTap_a7Nhi5g"
      }
    },
    {
      "cell_type": "code",
      "source": [
        "frutas = [\"maçã\", \"banana\", \"laranja\", \"uva\"]\n",
        "\n",
        "frutas.remove(\"banana\")\n",
        "\n",
        "frutas.append(\"melancia\")\n",
        "\n",
        "print(\"A lista de frutas foi atualizada:\")\n",
        "print(frutas)"
      ],
      "metadata": {
        "colab": {
          "base_uri": "https://localhost:8080/"
        },
        "id": "Zi5lr90khlV9",
        "outputId": "fc01b97d-f679-4674-cd1d-8cc947fd8b4b"
      },
      "execution_count": 4,
      "outputs": [
        {
          "output_type": "stream",
          "name": "stdout",
          "text": [
            "A lista de frutas foi atualizada:\n",
            "['maçã', 'laranja', 'uva', 'melancia']\n"
          ]
        }
      ]
    },
    {
      "cell_type": "markdown",
      "source": [
        "3. Escreva um programa que receba uma lista de números inteiros e exiba qual é o maior número e qual é o menor número presente na lista. Certifique-se de mostrar ambos os valores ao final."
      ],
      "metadata": {
        "id": "j1YsUb7Thlml"
      }
    },
    {
      "cell_type": "code",
      "source": [
        "numeros = [10, 5, 3, 8, 15]\n",
        "\n",
        "if numeros:\n",
        "\n",
        "    maior = max(numeros)\n",
        "    menor = min(numeros)\n",
        "\n",
        "    print(f\"O maior número da lista é {maior}.\")\n",
        "    print(f\"O menor número da lista é {menor}.\")\n",
        "else:\n",
        "    print(\"A lista está vazia.\")"
      ],
      "metadata": {
        "colab": {
          "base_uri": "https://localhost:8080/"
        },
        "id": "WELLYC3OhnlT",
        "outputId": "a47c7133-a6b7-45ad-bb05-aeb08b8dd196"
      },
      "execution_count": 5,
      "outputs": [
        {
          "output_type": "stream",
          "name": "stdout",
          "text": [
            "O maior número da lista é 15.\n",
            "O menor número da lista é 3.\n"
          ]
        }
      ]
    },
    {
      "cell_type": "markdown",
      "source": [
        "4. Crie uma função que receba uma lista contendo várias palavras (strings). A função deve devolver uma nova lista que contenha a quantidade de letras de cada palavra da lista original. Exiba essa nova lista com o número de letras correspondente a cada palavra."
      ],
      "metadata": {
        "id": "2n6TJL7bjSkl"
      }
    },
    {
      "cell_type": "code",
      "source": [
        "def contar_letras(palavras):\n",
        "    return [len(palavra) for palavra in palavras]\n",
        "\n",
        "lista_de_palavras = [\"maçã\", \"banana\", \"laranja\", \"uva\", \"melancia\"]\n",
        "\n",
        "quantidade_letras = contar_letras(lista_de_palavras)\n",
        "\n",
        "for palavra, quantidade in zip(lista_de_palavras, quantidade_letras):\n",
        "    print(f\"A palavra '{palavra}' possui {quantidade} letras.\")"
      ],
      "metadata": {
        "colab": {
          "base_uri": "https://localhost:8080/"
        },
        "id": "1rcJ9DshjU0S",
        "outputId": "b1a1a265-8cb5-4bc3-c3d5-c2ecd5592074"
      },
      "execution_count": 6,
      "outputs": [
        {
          "output_type": "stream",
          "name": "stdout",
          "text": [
            "A palavra 'maçã' possui 4 letras.\n",
            "A palavra 'banana' possui 6 letras.\n",
            "A palavra 'laranja' possui 7 letras.\n",
            "A palavra 'uva' possui 3 letras.\n",
            "A palavra 'melancia' possui 8 letras.\n"
          ]
        }
      ]
    },
    {
      "cell_type": "markdown",
      "source": [
        "5. Dada uma lista de números inteiros que você vai definir, ordene essa lista em ordem crescente e depois exiba o resultado da lista ordenada."
      ],
      "metadata": {
        "id": "zbTfJ5z6jUGU"
      }
    },
    {
      "cell_type": "code",
      "source": [
        "numeros = [12, 5, 3, 8, 15, 2, 10]\n",
        "\n",
        "numeros_ordenados = sorted(numeros)\n",
        "\n",
        "print(\"A lista ordenada em ordem crescente é:\")\n",
        "\n",
        "print(numeros_ordenados)\n"
      ],
      "metadata": {
        "colab": {
          "base_uri": "https://localhost:8080/"
        },
        "id": "k_3b5P0wjXVF",
        "outputId": "6963ba9d-f436-4358-ad75-059bd5e3e81b"
      },
      "execution_count": 7,
      "outputs": [
        {
          "output_type": "stream",
          "name": "stdout",
          "text": [
            "A lista ordenada em ordem crescente é:\n",
            "[2, 3, 5, 8, 10, 12, 15]\n"
          ]
        }
      ]
    },
    {
      "cell_type": "markdown",
      "source": [
        "6. Crie uma tupla que contenha os números de 1 a 5. Tente alterar o valor do segundo elemento dessa tupla e observe o que acontece. No final, explique por que você conseguiu ou não modificar o valor."
      ],
      "metadata": {
        "id": "LGBzyhRLjXiJ"
      }
    },
    {
      "cell_type": "code",
      "source": [
        "tupla = (1, 2, 3, 4, 5)\n",
        "\n",
        "try:\n",
        "    tupla[1] = 10\n",
        "except TypeError as e:\n",
        "    print(e)\n",
        "\n",
        "print(tupla)"
      ],
      "metadata": {
        "colab": {
          "base_uri": "https://localhost:8080/"
        },
        "id": "M_F5FHp9jY9L",
        "outputId": "88b10e8c-c8c8-482e-de47-363eaf82e380"
      },
      "execution_count": 9,
      "outputs": [
        {
          "output_type": "stream",
          "name": "stdout",
          "text": [
            "'tuple' object does not support item assignment\n",
            "(1, 2, 3, 4, 5)\n"
          ]
        }
      ]
    },
    {
      "cell_type": "markdown",
      "source": [
        "7. Escreva um programa que receba uma tupla contendo diversos números inteiros. O programa deve calcular e exibir a soma de todos os números presentes na tupla."
      ],
      "metadata": {
        "id": "rgfKUn-gjZQe"
      }
    },
    {
      "cell_type": "code",
      "source": [
        "tupla = (1, 2, 3, 4, 5)\n",
        "\n",
        "soma = sum(tupla)\n",
        "\n",
        "print(\"A soma de todos os números na tupla é:\")\n",
        "print(soma)"
      ],
      "metadata": {
        "colab": {
          "base_uri": "https://localhost:8080/"
        },
        "id": "hhxdeGDUjbEY",
        "outputId": "d10679b0-2ad9-4506-d5c4-8d44cdb59235"
      },
      "execution_count": 10,
      "outputs": [
        {
          "output_type": "stream",
          "name": "stdout",
          "text": [
            "A soma de todos os números na tupla é:\n",
            "15\n"
          ]
        }
      ]
    },
    {
      "cell_type": "markdown",
      "source": [
        "8. Dada uma tupla que contém cinco números, crie uma função que retorne o primeiro e o último número dessa tupla. O programa deve imprimir ambos os valores corretamente."
      ],
      "metadata": {
        "id": "4CpwuoYOjbOB"
      }
    },
    {
      "cell_type": "code",
      "source": [
        "def primeiro_e_ultimo(tupla):\n",
        "    return tupla[0], tupla[-1]\n",
        "\n",
        "tupla = (10, 20, 30, 40, 50)\n",
        "\n",
        "primeiro, ultimo = primeiro_e_ultimo(tupla)\n",
        "\n",
        "print(f\"O primeiro número da tupla é: {primeiro}\")\n",
        "print(f\"O último número da tupla é: {ultimo}\")"
      ],
      "metadata": {
        "colab": {
          "base_uri": "https://localhost:8080/"
        },
        "id": "JrKID1WjjdF5",
        "outputId": "0decd982-d9a4-4910-ea89-3e979a008311"
      },
      "execution_count": 11,
      "outputs": [
        {
          "output_type": "stream",
          "name": "stdout",
          "text": [
            "O primeiro número da tupla é: 10\n",
            "O último número da tupla é: 50\n"
          ]
        }
      ]
    },
    {
      "cell_type": "markdown",
      "source": [
        "9. Converta a lista [\"a\", \"b\", \"c\", \"d\"] em uma tupla e, em seguida, exiba o tipo do novo objeto que foi criado. O programa deve deixar claro que o tipo mudou de lista para tupla."
      ],
      "metadata": {
        "id": "U2leHm7LjefR"
      }
    },
    {
      "cell_type": "code",
      "source": [
        "lista = [\"a\", \"b\", \"c\", \"d\"]\n",
        "\n",
        "tupla = tuple(lista)\n",
        "\n",
        "print(\"A lista foi convertida em uma tupla.\")\n",
        "print(f\"O novo objeto é do tipo: {type(tupla)}\")"
      ],
      "metadata": {
        "colab": {
          "base_uri": "https://localhost:8080/"
        },
        "id": "6yV4Sbchje2J",
        "outputId": "a513ae5b-eb30-4e31-a6b1-f222c15347e2"
      },
      "execution_count": 12,
      "outputs": [
        {
          "output_type": "stream",
          "name": "stdout",
          "text": [
            "A lista foi convertida em uma tupla.\n",
            "O novo objeto é do tipo: <class 'tuple'>\n"
          ]
        }
      ]
    },
    {
      "cell_type": "markdown",
      "source": [
        "10. Crie uma tupla com três números inteiros e uma string. Depois, verifique se o número 3 está presente nessa tupla e mostre uma mensagem dizendo se o número foi encontrado ou não."
      ],
      "metadata": {
        "id": "nXh4tkvOjfZa"
      }
    },
    {
      "cell_type": "code",
      "source": [
        "tupla = (1, 2, 3, \"texto\")\n",
        "\n",
        "if 3 in tupla:\n",
        "    print(\"O número 3 foi encontrado na tupla.\")\n",
        "else:\n",
        "    print(\"O número 3 não foi encontrado na tupla.\")"
      ],
      "metadata": {
        "colab": {
          "base_uri": "https://localhost:8080/"
        },
        "id": "e3RoMBB4jhOU",
        "outputId": "b30f61bf-820c-4025-bfd0-790dffc15fc6"
      },
      "execution_count": 13,
      "outputs": [
        {
          "output_type": "stream",
          "name": "stdout",
          "text": [
            "O número 3 foi encontrado na tupla.\n"
          ]
        }
      ]
    },
    {
      "cell_type": "markdown",
      "source": [
        "11. Crie dois sets: set1 = {1, 2, 3, 4} e set2 = {3, 4, 5, 6}. Exiba a união dos dois sets (todos os elementos sem repetição), a interseção (elementos que aparecem nos dois sets) e a diferença (elementos presentes no primeiro set, mas não no segundo). Mostre os resultados de cada operação."
      ],
      "metadata": {
        "id": "oEr8HL26lNSI"
      }
    },
    {
      "cell_type": "code",
      "source": [
        "set1 = {1, 2, 3, 4}\n",
        "set2 = {3, 4, 5, 6}\n",
        "\n",
        "uniao = set1 | set2\n",
        "interseccao = set1 & set2\n",
        "diferenca = set1 - set2\n",
        "\n",
        "print(\"União dos sets:\", uniao)\n",
        "print(\"Interseção dos sets:\", interseccao)\n",
        "print(\"Diferença do set1 em relação ao set2:\", diferenca)"
      ],
      "metadata": {
        "colab": {
          "base_uri": "https://localhost:8080/"
        },
        "id": "zl-3NbHnlOyx",
        "outputId": "aa0f1314-e404-469b-b6f4-33c21c9eeac5"
      },
      "execution_count": 14,
      "outputs": [
        {
          "output_type": "stream",
          "name": "stdout",
          "text": [
            "União dos sets: {1, 2, 3, 4, 5, 6}\n",
            "Interseção dos sets: {3, 4}\n",
            "Diferença do set1 em relação ao set2: {1, 2}\n"
          ]
        }
      ]
    },
    {
      "cell_type": "markdown",
      "source": [
        "12. Dada a lista [1, 2, 2, 3, 4, 4, 5], remova os elementos duplicados transformando a lista em um set. Ao final, exiba o set resultante, que deve conter apenas valores únicos."
      ],
      "metadata": {
        "id": "sWcFT7smlQAW"
      }
    },
    {
      "cell_type": "code",
      "source": [
        "lista = [1, 2, 2, 3, 4, 4, 5]\n",
        "\n",
        "set_resultante = set(lista)\n",
        "\n",
        "print(\"O set resultante com valores únicos é:\", set_resultante)"
      ],
      "metadata": {
        "colab": {
          "base_uri": "https://localhost:8080/"
        },
        "id": "qcY1YMM8lQUj",
        "outputId": "a977d071-2319-4371-dc6b-3aca92beef15"
      },
      "execution_count": 15,
      "outputs": [
        {
          "output_type": "stream",
          "name": "stdout",
          "text": [
            "O set resultante com valores únicos é: {1, 2, 3, 4, 5}\n"
          ]
        }
      ]
    },
    {
      "cell_type": "markdown",
      "source": [
        "13. Crie um set contendo os valores {5, 10, 15, 20}. Adicione o número 25 a esse set e depois remova o valor 15. Mostre o set após cada alteração."
      ],
      "metadata": {
        "id": "3sZwBbd4lSye"
      }
    },
    {
      "cell_type": "code",
      "source": [
        "set_valores = {5, 10, 15, 20}\n",
        "\n",
        "print(\"Set inicial:\", set_valores)\n",
        "\n",
        "set_valores.add(25)\n",
        "print(\"Após adicionar 25:\", set_valores)\n",
        "\n",
        "set_valores.remove(15)\n",
        "print(\"Após remover 15:\", set_valores)"
      ],
      "metadata": {
        "colab": {
          "base_uri": "https://localhost:8080/"
        },
        "id": "0zjJOs6GlUZF",
        "outputId": "35b574b0-21d7-4411-a4b0-225b71d01ed7"
      },
      "execution_count": 16,
      "outputs": [
        {
          "output_type": "stream",
          "name": "stdout",
          "text": [
            "Set inicial: {10, 20, 5, 15}\n",
            "Após adicionar 25: {5, 10, 15, 20, 25}\n",
            "Após remover 15: {5, 10, 20, 25}\n"
          ]
        }
      ]
    },
    {
      "cell_type": "markdown",
      "source": [
        "14. Verifique se o número 7 está presente no set {1, 2, 3, 4, 5}. O programa deve exibir uma mensagem informando se o número foi encontrado ou não no set."
      ],
      "metadata": {
        "id": "T0TDZvW3lU4N"
      }
    },
    {
      "cell_type": "code",
      "source": [
        "conjunto = {1, 2, 3, 4, 5}\n",
        "\n",
        "if 7 in conjunto:\n",
        "    print(\"O número 7 foi encontrado no set.\")\n",
        "else:\n",
        "    print(\"O número 7 não foi encontrado no set.\")"
      ],
      "metadata": {
        "colab": {
          "base_uri": "https://localhost:8080/"
        },
        "id": "B6t5HwW3lVY8",
        "outputId": "a9265096-6283-4e72-c6f8-8db38f5a6e44"
      },
      "execution_count": 17,
      "outputs": [
        {
          "output_type": "stream",
          "name": "stdout",
          "text": [
            "O número 7 não foi encontrado no set.\n"
          ]
        }
      ]
    },
    {
      "cell_type": "markdown",
      "source": [
        "15. Crie um set vazio e adicione vários valores a ele usando um laço de repetição (por exemplo, um for ou while). No final, mostre todos os valores armazenados no set."
      ],
      "metadata": {
        "id": "lFLt5f-AlX55"
      }
    },
    {
      "cell_type": "code",
      "source": [
        "set_vazio = set()\n",
        "\n",
        "for i in range(1, 6):\n",
        "    set_vazio.add(i)\n",
        "\n",
        "print(\"Os valores armazenados no set são:\", set_vazio)"
      ],
      "metadata": {
        "colab": {
          "base_uri": "https://localhost:8080/"
        },
        "id": "HsI3c4TLlZgT",
        "outputId": "3ce69ea5-6b87-48a7-c0fe-80e7a819b67a"
      },
      "execution_count": 19,
      "outputs": [
        {
          "output_type": "stream",
          "name": "stdout",
          "text": [
            "Os valores armazenados no set são: {1, 2, 3, 4, 5}\n"
          ]
        }
      ]
    },
    {
      "cell_type": "markdown",
      "source": [
        "16. Crie um dicionário com os pares chave-valor 'nome': 'Ana', 'idade': 22, 'curso': 'Engenharia'. Adicione uma nova chave 'universidade': 'USP' ao dicionário. Em seguida, exiba o dicionário completo com todas as informações."
      ],
      "metadata": {
        "id": "mXQ0-mjilZor"
      }
    },
    {
      "cell_type": "code",
      "source": [
        "dicionarios = {\n",
        "    'pessoa1': {\n",
        "        'nome': 'Ana',\n",
        "        'idade': 22,\n",
        "        'curso': 'Engenharia',\n",
        "        'universidade': 'USP'\n",
        "    },\n",
        "    'pessoa2': {\n",
        "        'nome': 'Carlos',\n",
        "        'idade': 25,\n",
        "        'curso': 'Medicina',\n",
        "        'universidade': 'Unifesp'\n",
        "    },\n",
        "    'pessoa3': {\n",
        "        'nome': 'Mariana',\n",
        "        'idade': 20,\n",
        "        'curso': 'Arquitetura',\n",
        "        'universidade': 'FAU'\n",
        "    },\n",
        "    'pessoa4': {\n",
        "        'nome': 'Ricardo',\n",
        "        'idade': 23,\n",
        "        'curso': 'Direito',\n",
        "        'universidade': 'PUC'\n",
        "    },\n",
        "    'pessoa5': {\n",
        "        'nome': 'Fernanda',\n",
        "        'idade': 21,\n",
        "        'curso': 'Psicologia',\n",
        "        'universidade': 'UFMG'\n",
        "    }\n",
        "}\n",
        "\n",
        "print(\"Dicionário completo com todas as informações:\\n\")\n",
        "\n",
        "for pessoa, info in dicionarios.items():\n",
        "    print(f\"{info['nome']} (Idade: {info['idade']})\")\n",
        "    print(f\"  Curso: {info['curso']}\")\n",
        "    print(f\"  Universidade: {info['universidade']}\\n\")"
      ],
      "metadata": {
        "colab": {
          "base_uri": "https://localhost:8080/"
        },
        "id": "q2PMBHx_ldtz",
        "outputId": "fff53fe3-a771-452e-b94e-627f7e4a3fec"
      },
      "execution_count": 21,
      "outputs": [
        {
          "output_type": "stream",
          "name": "stdout",
          "text": [
            "Dicionário completo com todas as informações:\n",
            "\n",
            "Ana (Idade: 22)\n",
            "  Curso: Engenharia\n",
            "  Universidade: USP\n",
            "\n",
            "Carlos (Idade: 25)\n",
            "  Curso: Medicina\n",
            "  Universidade: Unifesp\n",
            "\n",
            "Mariana (Idade: 20)\n",
            "  Curso: Arquitetura\n",
            "  Universidade: FAU\n",
            "\n",
            "Ricardo (Idade: 23)\n",
            "  Curso: Direito\n",
            "  Universidade: PUC\n",
            "\n",
            "Fernanda (Idade: 21)\n",
            "  Curso: Psicologia\n",
            "  Universidade: UFMG\n",
            "\n"
          ]
        }
      ]
    },
    {
      "cell_type": "markdown",
      "source": [
        "17. Escreva um programa que percorra um dicionário com várias chaves e valores. Para cada par, imprima a chave e o valor no formato: Chave: X, Valor: Y. O dicionário pode conter qualquer informação que você preferir."
      ],
      "metadata": {
        "id": "ylhUePBSlbgq"
      }
    },
    {
      "cell_type": "code",
      "source": [
        "dados = {\n",
        "    'pessoa1': {\n",
        "        'nome': 'Ana',\n",
        "        'idade': 22,\n",
        "        'curso': 'Engenharia',\n",
        "        'universidade': 'USP'\n",
        "    },\n",
        "    'pessoa2': {\n",
        "        'nome': 'Carlos',\n",
        "        'idade': 25,\n",
        "        'curso': 'Medicina',\n",
        "        'universidade': 'Unifesp'\n",
        "    },\n",
        "    'pessoa3': {\n",
        "        'nome': 'Mariana',\n",
        "        'idade': 20,\n",
        "        'curso': 'Arquitetura',\n",
        "        'universidade': 'FAU'\n",
        "    },\n",
        "    'pessoa4': {\n",
        "        'nome': 'Ricardo',\n",
        "        'idade': 23,\n",
        "        'curso': 'Direito',\n",
        "        'universidade': 'PUC'\n",
        "    }\n",
        "}\n",
        "\n",
        "print(\"Percorrendo o dicionário:\\n\")\n",
        "\n",
        "for pessoa, info in dados.items():\n",
        "    for chave, valor in info.items():\n",
        "        print(f\"Chave: {chave}, Valor: {valor}\")\n",
        "    print()"
      ],
      "metadata": {
        "colab": {
          "base_uri": "https://localhost:8080/"
        },
        "id": "_osKVU-Zlc-g",
        "outputId": "ae2597e8-893a-4606-ff16-47b0b03001b9"
      },
      "execution_count": 23,
      "outputs": [
        {
          "output_type": "stream",
          "name": "stdout",
          "text": [
            "Percorrendo o dicionário:\n",
            "\n",
            "Chave: nome, Valor: Ana\n",
            "Chave: idade, Valor: 22\n",
            "Chave: curso, Valor: Engenharia\n",
            "Chave: universidade, Valor: USP\n",
            "\n",
            "Chave: nome, Valor: Carlos\n",
            "Chave: idade, Valor: 25\n",
            "Chave: curso, Valor: Medicina\n",
            "Chave: universidade, Valor: Unifesp\n",
            "\n",
            "Chave: nome, Valor: Mariana\n",
            "Chave: idade, Valor: 20\n",
            "Chave: curso, Valor: Arquitetura\n",
            "Chave: universidade, Valor: FAU\n",
            "\n",
            "Chave: nome, Valor: Ricardo\n",
            "Chave: idade, Valor: 23\n",
            "Chave: curso, Valor: Direito\n",
            "Chave: universidade, Valor: PUC\n",
            "\n"
          ]
        }
      ]
    },
    {
      "cell_type": "markdown",
      "source": [
        "18. Crie um dicionário que relacione nomes de alunos às suas notas. Depois, crie uma função que calcule e exiba a média das notas desses alunos com base nas informações do dicionário."
      ],
      "metadata": {
        "id": "4ImnIW_OleE2"
      }
    },
    {
      "cell_type": "code",
      "source": [
        "alunos_notas = {\n",
        "    'Ana': 8.5,\n",
        "    'Carlos': 7.0,\n",
        "    'Mariana': 9.5,\n",
        "    'Ricardo': 6.5,\n",
        "    'Fernanda': 8.0\n",
        "}\n",
        "\n",
        "def calcular_media(notas):\n",
        "    media = sum(notas.values()) / len(notas)\n",
        "    return media\n",
        "\n",
        "media_alunos = calcular_media(alunos_notas)\n",
        "\n",
        "print(f\"A média das notas dos alunos é: {media_alunos:.2f}\")"
      ],
      "metadata": {
        "colab": {
          "base_uri": "https://localhost:8080/"
        },
        "id": "szvmicCwljX8",
        "outputId": "6e9c2bf9-8b18-4668-a41a-e473baa72a46"
      },
      "execution_count": 24,
      "outputs": [
        {
          "output_type": "stream",
          "name": "stdout",
          "text": [
            "A média das notas dos alunos é: 7.90\n"
          ]
        }
      ]
    },
    {
      "cell_type": "markdown",
      "source": [
        "19. Escreva um programa que permita ao usuário buscar o valor de uma chave específica em um dicionário. Caso a chave não exista, o programa deve exibir uma mensagem dizendo que a chave não foi encontrada. Teste o programa com diferentes chaves."
      ],
      "metadata": {
        "id": "WL3pFAcTlfzi"
      }
    },
    {
      "cell_type": "code",
      "source": [
        "dicionario = {\n",
        "    'pessoa1': {\n",
        "        'nome': 'Ana',\n",
        "        'idade': 22,\n",
        "        'curso': 'Engenharia',\n",
        "        'universidade': 'USP'\n",
        "    },\n",
        "    'pessoa2': {\n",
        "        'nome': 'Carlos',\n",
        "        'idade': 25,\n",
        "        'curso': 'Medicina',\n",
        "        'universidade': 'Unifesp'\n",
        "    },\n",
        "    'pessoa3': {\n",
        "        'nome': 'Mariana',\n",
        "        'idade': 20,\n",
        "        'curso': 'Arquitetura',\n",
        "        'universidade': 'FAU'\n",
        "    }\n",
        "}\n",
        "\n",
        "\n",
        "chaves_teste = ['pessoa1', 'pessoa2', 'pessoa3', 'pessoa4']\n",
        "\n",
        "for chave in chaves_teste:\n",
        "    resultado = dicionario.get(chave)\n",
        "\n",
        "    if resultado is not None:\n",
        "        print(f\"Chave: {chave}\")\n",
        "        for sub_chave, valor in resultado.items():\n",
        "            print(f\"  {sub_chave}: {valor}\")\n",
        "        print()\n",
        "    else:\n",
        "        print(f\"A chave '{chave}' não foi encontrada.\")\n"
      ],
      "metadata": {
        "colab": {
          "base_uri": "https://localhost:8080/"
        },
        "id": "BhndQwlQliJp",
        "outputId": "4dfa77d9-32dc-4db3-e987-0831805640e4"
      },
      "execution_count": 30,
      "outputs": [
        {
          "output_type": "stream",
          "name": "stdout",
          "text": [
            "Chave: pessoa1\n",
            "  nome: Ana\n",
            "  idade: 22\n",
            "  curso: Engenharia\n",
            "  universidade: USP\n",
            "\n",
            "Chave: pessoa2\n",
            "  nome: Carlos\n",
            "  idade: 25\n",
            "  curso: Medicina\n",
            "  universidade: Unifesp\n",
            "\n",
            "Chave: pessoa3\n",
            "  nome: Mariana\n",
            "  idade: 20\n",
            "  curso: Arquitetura\n",
            "  universidade: FAU\n",
            "\n",
            "A chave 'pessoa4' não foi encontrada.\n"
          ]
        }
      ]
    },
    {
      "cell_type": "markdown",
      "source": [
        "20. Dado um dicionário que contém produtos e seus respectivos preços, como {'pão': 2.50, 'leite': 3.00, 'café': 4.50}, permita que o usuário altere o preço de um dos produtos e exiba o dicionário atualizado com o novo valor."
      ],
      "metadata": {
        "id": "uvJjC9fVlhEl"
      }
    },
    {
      "cell_type": "code",
      "source": [
        "produtos = {\n",
        "    'pão': 2.50,\n",
        "    'leite': 3.00,\n",
        "    'café': 4.50\n",
        "}\n",
        "\n",
        "produto_alterar = 'café'\n",
        "novo_preco = 5.00\n",
        "\n",
        "if produto_alterar in produtos:\n",
        "    preco_antigo = produtos[produto_alterar]\n",
        "    produtos[produto_alterar] = novo_preco\n",
        "    print(f\"O preço do {produto_alterar} foi alterado de R$ {preco_antigo:.2f} para R$ {novo_preco:.2f}.\")\n",
        "else:\n",
        "    print(f\"O produto '{produto_alterar}' não foi encontrado.\")\n",
        "\n",
        "print(\"\\nDicionário atualizado:\")\n",
        "for produto, preco in produtos.items():\n",
        "    print(f\"{produto}: R$ {preco:.2f}\")\n"
      ],
      "metadata": {
        "colab": {
          "base_uri": "https://localhost:8080/"
        },
        "id": "_3QvcE5qll3T",
        "outputId": "6b3c0cd9-1471-4d98-b8c8-a470e6eebdcb"
      },
      "execution_count": 33,
      "outputs": [
        {
          "output_type": "stream",
          "name": "stdout",
          "text": [
            "O preço do café foi alterado de R$ 4.50 para R$ 5.00.\n",
            "\n",
            "Dicionário atualizado:\n",
            "pão: R$ 2.50\n",
            "leite: R$ 3.00\n",
            "café: R$ 5.00\n"
          ]
        }
      ]
    }
  ]
}
