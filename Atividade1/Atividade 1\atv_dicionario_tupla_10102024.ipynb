{
  "nbformat": 4,
  "nbformat_minor": 0,
  "metadata": {
    "colab": {
      "provenance": []
    },
    "kernelspec": {
      "name": "python3",
      "display_name": "Python 3"
    },
    "language_info": {
      "name": "python"
    }
  },
  "cells": [
    {
      "cell_type": "markdown",
      "source": [
        "1. Crie uma tupla chamada cidades que contenha os nomes de cinco cidades. Imprima a terceira cidade."
      ],
      "metadata": {
        "id": "WcMql4JrEQ9b"
      }
    },
    {
      "cell_type": "code",
      "execution_count": 1,
      "metadata": {
        "colab": {
          "base_uri": "https://localhost:8080/"
        },
        "id": "c_AHHm7W9ohE",
        "outputId": "d484d9a9-4938-4d13-b707-fab2d5b5aece"
      },
      "outputs": [
        {
          "output_type": "stream",
          "name": "stdout",
          "text": [
            "Belo Horizonte\n"
          ]
        }
      ],
      "source": [
        "cidades = (\"São Paulo\", \"Rio de Janeiro\", \"Belo Horizonte\", \"Curitiba\", \"Porto Alegre\")\n",
        "\n",
        "print(cidades[2])"
      ]
    },
    {
      "cell_type": "markdown",
      "source": [
        "2. Crie uma tupla chamada numeros com os seguintes valores: (1, 2, 3, 1, 4, 1). Utilize o método count() para contar quantas vezes o número 1 aparece na tupla."
      ],
      "metadata": {
        "id": "CMLugNA-JSed"
      }
    },
    {
      "cell_type": "code",
      "source": [
        "numeros = (1, 2, 3, 1, 4, 1)\n",
        "\n",
        "num1 = numeros.count(1)\n",
        "\n",
        "print(f\"O número 1 aparece {num1} vezes\")"
      ],
      "metadata": {
        "colab": {
          "base_uri": "https://localhost:8080/"
        },
        "id": "HMs-Q9zLJUVr",
        "outputId": "726b523d-f1d0-4a2c-e252-18ff6461b929"
      },
      "execution_count": 3,
      "outputs": [
        {
          "output_type": "stream",
          "name": "stdout",
          "text": [
            "O número 1 aparece 3 vezes\n"
          ]
        }
      ]
    },
    {
      "cell_type": "markdown",
      "source": [
        "3. Crie uma tupla chamada animais com os seguintes valores: ('cachorro', 'gato', 'pássaro'). Verifique se 'gato' está na tupla e imprima uma mensagem informando o resultado."
      ],
      "metadata": {
        "id": "XHrRL7PrLiGA"
      }
    },
    {
      "cell_type": "code",
      "source": [
        "animais = ('cachorro', 'gato', 'pássaro')\n",
        "\n",
        "if 'gato' in animais:\n",
        "    print(f\"O animal 'gato' está na tupla.\")\n",
        "else:\n",
        "    print(\"O animal 'gato' não está na tupla.\")"
      ],
      "metadata": {
        "colab": {
          "base_uri": "https://localhost:8080/"
        },
        "id": "nvQwjKwKLju1",
        "outputId": "ae35e120-c696-4db2-d44f-fca912532635"
      },
      "execution_count": 6,
      "outputs": [
        {
          "output_type": "stream",
          "name": "stdout",
          "text": [
            "O animal 'gato' está na tupla.\n"
          ]
        }
      ]
    },
    {
      "cell_type": "markdown",
      "source": [
        "4. Dada a tupla meses = ('janeiro', 'fevereiro', 'março', 'abril', 'maio'), encontre e imprima o índice do mês 'abril'."
      ],
      "metadata": {
        "id": "3yLgEjkJO2J8"
      }
    },
    {
      "cell_type": "code",
      "source": [
        "meses = ('janeiro', 'fevereiro', 'março', 'abril', 'maio')\n",
        "\n",
        "indice = meses.index('abril')\n",
        "\n",
        "print(\"O índice do mês 'abril' é:\", indice)"
      ],
      "metadata": {
        "colab": {
          "base_uri": "https://localhost:8080/"
        },
        "id": "NvRbJJV3O3ub",
        "outputId": "1acd5044-3a86-4891-b1a2-de964eb462a6"
      },
      "execution_count": 7,
      "outputs": [
        {
          "output_type": "stream",
          "name": "stdout",
          "text": [
            "O índice do mês 'abril' é: 3\n"
          ]
        }
      ]
    },
    {
      "cell_type": "markdown",
      "source": [
        "5. Crie uma tupla chamada coordenadas que armazene a latitude e longitude de um local (ex: (-23.5505, -46.6333)). Imprima a latitude e a longitude separadamente."
      ],
      "metadata": {
        "id": "wToZChn8PYw9"
      }
    },
    {
      "cell_type": "code",
      "source": [
        "coordenadas = (-23.5505, -46.6333)\n",
        "\n",
        "latitude = coordenadas[0]\n",
        "longitude = coordenadas[1]\n",
        "\n",
        "\n",
        "print(\"Latitude:\", latitude)\n",
        "print(\"Longitude:\", longitude)"
      ],
      "metadata": {
        "colab": {
          "base_uri": "https://localhost:8080/"
        },
        "id": "5fg5nFgZPbS_",
        "outputId": "fe5e594b-bfaf-4ed0-c4ff-c0046c70338f"
      },
      "execution_count": 8,
      "outputs": [
        {
          "output_type": "stream",
          "name": "stdout",
          "text": [
            "Latitude: -23.5505\n",
            "Longitude: -46.6333\n"
          ]
        }
      ]
    },
    {
      "cell_type": "markdown",
      "source": [
        "6. Crie um dicionário chamado carro com as chaves marca, modelo e ano. Atribua valores de sua escolha e imprima o modelo do carro."
      ],
      "metadata": {
        "id": "NrLnU8IeP3Vi"
      }
    },
    {
      "cell_type": "code",
      "source": [
        "carro1 = {\n",
        "    \"marca\": \"Toyota\",\n",
        "    \"modelo\": \"Corolla\",\n",
        "    \"ano\": 2022\n",
        "}\n",
        "\n",
        "carro2 = {\n",
        "    \"marca\": \"Ford\",\n",
        "    \"modelo\": \"Mustang\",\n",
        "    \"ano\": 2021\n",
        "}\n",
        "\n",
        "carro3 = {\n",
        "    \"marca\": \"Chevrolet\",\n",
        "    \"modelo\": \"Camaro\",\n",
        "    \"ano\": 2023\n",
        "}\n",
        "\n",
        "print(\"Modelo do carro 1:\", carro1.get(\"modelo\"))\n",
        "print(\"Modelo do carro 2:\", carro2.get(\"modelo\"))\n",
        "print(\"Modelo do carro 3:\", carro3.get(\"modelo\"))"
      ],
      "metadata": {
        "colab": {
          "base_uri": "https://localhost:8080/"
        },
        "id": "35PhjWP9P5_9",
        "outputId": "1a58d7e9-9ae3-4b78-f26f-8017ca5e639f"
      },
      "execution_count": 10,
      "outputs": [
        {
          "output_type": "stream",
          "name": "stdout",
          "text": [
            "Modelo do carro 1: Corolla\n",
            "Modelo do carro 2: Mustang\n",
            "Modelo do carro 3: Camaro\n"
          ]
        }
      ]
    },
    {
      "cell_type": "markdown",
      "source": [
        "7. Use o dicionário carro que você criou no exercício anterior. Adicione uma nova chave chamada cor e atribua uma cor ao carro. Em seguida, imprima o dicionário completo."
      ],
      "metadata": {
        "id": "hlWbmbSLQ9hQ"
      }
    },
    {
      "cell_type": "code",
      "source": [
        "carro1 = {\n",
        "    \"marca\": \"Toyota\",\n",
        "    \"modelo\": \"Corolla\",\n",
        "    \"ano\": 2022\n",
        "}\n",
        "\n",
        "carro2 = {\n",
        "    \"marca\": \"Ford\",\n",
        "    \"modelo\": \"Mustang\",\n",
        "    \"ano\": 2021\n",
        "}\n",
        "\n",
        "carro3 = {\n",
        "    \"marca\": \"Chevrolet\",\n",
        "    \"modelo\": \"Camaro\",\n",
        "    \"ano\": 2023\n",
        "}\n",
        "\n",
        "carro1[\"cor\"] = \"preto\"\n",
        "carro2[\"cor\"] = \"vermelho\"\n",
        "carro3[\"cor\"] = \"amarelo\"\n",
        "\n",
        "print(\"Carro 1:\", carro1)\n",
        "print(\"Carro 2:\", carro2)\n",
        "print(\"Carro 3:\", carro3)"
      ],
      "metadata": {
        "colab": {
          "base_uri": "https://localhost:8080/"
        },
        "id": "e0hWoUUBQ-xo",
        "outputId": "da8f2154-ba40-4265-dc8d-4f9705dcfaa5"
      },
      "execution_count": 12,
      "outputs": [
        {
          "output_type": "stream",
          "name": "stdout",
          "text": [
            "Carro 1: {'marca': 'Toyota', 'modelo': 'Corolla', 'ano': 2022, 'cor': 'preto'}\n",
            "Carro 2: {'marca': 'Ford', 'modelo': 'Mustang', 'ano': 2021, 'cor': 'vermelho'}\n",
            "Carro 3: {'marca': 'Chevrolet', 'modelo': 'Camaro', 'ano': 2023, 'cor': 'amarelo'}\n"
          ]
        }
      ]
    },
    {
      "cell_type": "markdown",
      "source": [
        "8. Dado o dicionário pessoa = {'nome': 'João', 'idade': 30, 'cidade': 'São Paulo'}, remova a chave idade e imprima o dicionário resultante."
      ],
      "metadata": {
        "id": "9szDil6IRZA5"
      }
    },
    {
      "cell_type": "code",
      "source": [
        "pessoa = {'nome': 'João', 'idade': 30, 'cidade': 'São Paulo'}\n",
        "\n",
        "pessoa.pop('idade')\n",
        "\n",
        "print(pessoa)"
      ],
      "metadata": {
        "colab": {
          "base_uri": "https://localhost:8080/"
        },
        "id": "EhZspxjURbNe",
        "outputId": "d4ea0fe7-9aa4-4d14-888f-37cc1f13f7b0"
      },
      "execution_count": 14,
      "outputs": [
        {
          "output_type": "stream",
          "name": "stdout",
          "text": [
            "{'nome': 'João', 'cidade': 'São Paulo'}\n"
          ]
        }
      ]
    },
    {
      "cell_type": "markdown",
      "source": [
        "9. Crie um dicionário chamado produto que contenha nome, preco e quantidade. Use um loop for para imprimir todos os pares chave/valor."
      ],
      "metadata": {
        "id": "oKc1vOoXSoth"
      }
    },
    {
      "cell_type": "code",
      "source": [
        "produtos = [\n",
        "    {\n",
        "        \"nome\": \"Camiseta\",\n",
        "        \"preco\": 49.90,\n",
        "        \"quantidade\": 10\n",
        "    },\n",
        "    {\n",
        "        \"nome\": \"Tênis\",\n",
        "        \"preco\": 199.90,\n",
        "        \"quantidade\": 15\n",
        "    },\n",
        "    {\n",
        "        \"nome\": \"Smartphone\",\n",
        "        \"preco\": 1500.00,\n",
        "        \"quantidade\": 8\n",
        "    },\n",
        "    {\n",
        "        \"nome\": \"Relógio\",\n",
        "        \"preco\": 350.00,\n",
        "        \"quantidade\": 20\n",
        "    },\n",
        "    {\n",
        "        \"nome\": \"Bicicleta\",\n",
        "        \"preco\": 800.00,\n",
        "        \"quantidade\": 5\n",
        "    },\n",
        "    {\n",
        "        \"nome\": \"Liquidificador\",\n",
        "        \"preco\": 299.90,\n",
        "        \"quantidade\": 12\n",
        "    }\n",
        "]\n",
        "\n",
        "for produto in produtos:\n",
        "    print(\"Produto:\")\n",
        "    for chave, valor in produto.items():\n",
        "        print(f\"{chave}: {valor}\")\n",
        "    print()"
      ],
      "metadata": {
        "colab": {
          "base_uri": "https://localhost:8080/"
        },
        "id": "1iZebQObSp9B",
        "outputId": "62d5b0c4-5cff-4f6b-98b7-69768578510b"
      },
      "execution_count": 15,
      "outputs": [
        {
          "output_type": "stream",
          "name": "stdout",
          "text": [
            "Produto:\n",
            "nome: Camiseta\n",
            "preco: 49.9\n",
            "quantidade: 10\n",
            "\n",
            "Produto:\n",
            "nome: Tênis\n",
            "preco: 199.9\n",
            "quantidade: 15\n",
            "\n",
            "Produto:\n",
            "nome: Smartphone\n",
            "preco: 1500.0\n",
            "quantidade: 8\n",
            "\n",
            "Produto:\n",
            "nome: Relógio\n",
            "preco: 350.0\n",
            "quantidade: 20\n",
            "\n",
            "Produto:\n",
            "nome: Bicicleta\n",
            "preco: 800.0\n",
            "quantidade: 5\n",
            "\n",
            "Produto:\n",
            "nome: Liquidificador\n",
            "preco: 299.9\n",
            "quantidade: 12\n",
            "\n"
          ]
        }
      ]
    },
    {
      "cell_type": "markdown",
      "source": [
        "10. Dado o dicionário estudante = {'nome': 'Maria', 'curso': 'Biologia', 'ano': 2}, verifique se a chave curso existe. Se existir, imprima \"A estudante está no curso de Biologia.\""
      ],
      "metadata": {
        "id": "DoCquh-vUqho"
      }
    },
    {
      "cell_type": "code",
      "source": [
        "estudante = {'nome': 'Maria', 'curso': 'Biologia', 'ano': 2}\n",
        "\n",
        "if 'curso' in estudante:\n",
        "    print(\"A estudante está no curso de Biologia.\")"
      ],
      "metadata": {
        "colab": {
          "base_uri": "https://localhost:8080/"
        },
        "id": "7CVIiWMpUsbr",
        "outputId": "40b8b2d9-dc8e-413f-e81e-5837870eac3f"
      },
      "execution_count": 16,
      "outputs": [
        {
          "output_type": "stream",
          "name": "stdout",
          "text": [
            "A estudante está no curso de Biologia.\n"
          ]
        }
      ]
    }
  ]
}
