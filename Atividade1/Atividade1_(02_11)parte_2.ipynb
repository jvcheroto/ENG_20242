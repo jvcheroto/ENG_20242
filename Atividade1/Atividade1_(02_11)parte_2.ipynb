{
  "nbformat": 4,
  "nbformat_minor": 0,
  "metadata": {
    "colab": {
      "provenance": []
    },
    "kernelspec": {
      "name": "python3",
      "display_name": "Python 3"
    },
    "language_info": {
      "name": "python"
    }
  },
  "cells": [
    {
      "cell_type": "markdown",
      "source": [
        "1.Crie um conjunto chamado `frutas` que contenha os seguintes elementos: \"maçã\", \"banana\", \"laranja\" e \"uva\". Depois de criar o conjunto, exiba-o no console para confirmar os elementos adicionados.\n"
      ],
      "metadata": {
        "id": "2FiIhHgrcE7R"
      }
    },
    {
      "cell_type": "code",
      "execution_count": 2,
      "metadata": {
        "colab": {
          "base_uri": "https://localhost:8080/"
        },
        "id": "XOcdRLsqbgJo",
        "outputId": "f1c3df04-6ab5-40e1-c148-c2659bd0a65c"
      },
      "outputs": [
        {
          "output_type": "stream",
          "name": "stdout",
          "text": [
            "{'laranja', 'uva', 'maçã', 'banana'}\n"
          ]
        }
      ],
      "source": [
        "frutas = {\"maçã\", \"banana\", \"laranja\", \"uva\"}\n",
        "\n",
        "print(frutas)"
      ]
    },
    {
      "cell_type": "markdown",
      "source": [
        "2. Utilizando o conjunto `frutas` criado anteriormente, adicione a fruta \"morango\" ao conjunto. Lembre-se que conjuntos não permitem duplicatas, então adicione um elemento que já exista para verificar o comportamento."
      ],
      "metadata": {
        "id": "Frphs_37dEb-"
      }
    },
    {
      "cell_type": "code",
      "source": [
        "frutas = {\"maçã\", \"banana\", \"laranja\", \"uva\"}\n",
        "\n",
        "frutas.add(\"morango\")\n",
        "\n",
        "frutas.add(\"maçã\")\n",
        "\n",
        "print(frutas)"
      ],
      "metadata": {
        "colab": {
          "base_uri": "https://localhost:8080/"
        },
        "id": "26xIaDUBdIu0",
        "outputId": "a7dff364-bb2f-4688-803d-45dd1c97440c"
      },
      "execution_count": 1,
      "outputs": [
        {
          "output_type": "stream",
          "name": "stdout",
          "text": [
            "{'morango', 'laranja', 'uva', 'maçã', 'banana'}\n"
          ]
        }
      ]
    },
    {
      "cell_type": "markdown",
      "source": [
        "3. Remova a fruta \"banana\" do conjunto `frutas`. Se \"banana\" não estiver presente, o código pode gerar um erro. Verifique se a fruta existe antes de removê-la ou trate o erro adequadamente."
      ],
      "metadata": {
        "id": "dS3Sz5aidnA9"
      }
    },
    {
      "cell_type": "code",
      "source": [
        "frutas = {\"maçã\", \"banana\", \"laranja\", \"uva\", \"morango\"}\n",
        "\n",
        "if \"banana\" in frutas:\n",
        "    frutas.remove(\"banana\")\n",
        "    print(\"Banana removida com sucesso.\")\n",
        "else:\n",
        "    print(\"A banana não está no conjunto.\")\n",
        "\n",
        "print(frutas)"
      ],
      "metadata": {
        "colab": {
          "base_uri": "https://localhost:8080/"
        },
        "id": "nNxAD9omdpSF",
        "outputId": "e49f2f6e-7d27-45f2-b803-437c01ace564"
      },
      "execution_count": 3,
      "outputs": [
        {
          "output_type": "stream",
          "name": "stdout",
          "text": [
            "Banana removida com sucesso.\n",
            "{'morango', 'laranja', 'uva', 'maçã'}\n"
          ]
        }
      ]
    },
    {
      "cell_type": "markdown",
      "source": [
        "4. Verifique se a fruta \"laranja\" está presente no conjunto `frutas` usando uma estrutura condicional. Exiba uma mensagem no console indicando se \"laranja\" está ou não presente no conjunto."
      ],
      "metadata": {
        "id": "l5UMToAHd9zW"
      }
    },
    {
      "cell_type": "code",
      "source": [
        "frutas = {\"maçã\", \"banana\", \"laranja\", \"uva\", \"morango\"}\n",
        "\n",
        "if \"laranja\" in frutas:\n",
        "    print(\"A fruta 'laranja' está presente no conjunto.\")\n",
        "else:\n",
        "    print(\"A fruta 'laranja' não está presente no conjunto.\")"
      ],
      "metadata": {
        "colab": {
          "base_uri": "https://localhost:8080/"
        },
        "id": "GZxGr8X6d_2T",
        "outputId": "282ca19b-ab65-463e-9549-652b6e46803b"
      },
      "execution_count": 5,
      "outputs": [
        {
          "output_type": "stream",
          "name": "stdout",
          "text": [
            "A fruta 'laranja' está presente no conjunto.\n"
          ]
        }
      ]
    },
    {
      "cell_type": "markdown",
      "source": [
        "5. Crie um segundo conjunto chamado `citrus`, contendo \"laranja\", \"limão\" e \"tangerina\". Faça a união dos conjuntos `frutas` e `citrus`, criando um novo conjunto que contém todos os elementos dos dois conjuntos. Exiba o resultado dessa união."
      ],
      "metadata": {
        "id": "q1tfhSqhef_Y"
      }
    },
    {
      "cell_type": "code",
      "source": [
        "frutas = {\"maçã\", \"banana\", \"uva\", \"morango\"}\n",
        "\n",
        "citrus = {\"laranja\", \"limão\", \"tangerina\"}\n",
        "\n",
        "uniao = frutas.union(citrus)\n",
        "\n",
        "print(\"Conjunto de frutas e citrus:\", uniao)"
      ],
      "metadata": {
        "colab": {
          "base_uri": "https://localhost:8080/"
        },
        "id": "PJ3zbb9Ieh71",
        "outputId": "694ca5a5-4b5d-4082-84ca-248baaaf6eab"
      },
      "execution_count": 6,
      "outputs": [
        {
          "output_type": "stream",
          "name": "stdout",
          "text": [
            "Conjunto de frutas e citrus: {'morango', 'laranja', 'banana', 'uva', 'limão', 'tangerina', 'maçã'}\n"
          ]
        }
      ]
    },
    {
      "cell_type": "markdown",
      "source": [
        "6. Usando os conjuntos `frutas` e `citrus`, encontre a interseção entre eles, ou seja, os elementos que estão presentes em ambos os conjuntos. Exiba os elementos comuns."
      ],
      "metadata": {
        "id": "mE4kpOxde3Xt"
      }
    },
    {
      "cell_type": "code",
      "source": [
        "frutas = {\"maçã\", \"banana\", \"uva\", \"morango\", \"laranja\"}\n",
        "\n",
        "citrus = {\"laranja\", \"limão\", \"tangerina\"}\n",
        "\n",
        "intersecao = frutas.intersection(citrus)\n",
        "\n",
        "print(\"Elementos comuns entre frutas e citrus:\", intersecao)"
      ],
      "metadata": {
        "colab": {
          "base_uri": "https://localhost:8080/"
        },
        "id": "vZugt2BDe4qV",
        "outputId": "b7ec1ce4-9655-4a78-f329-c7c00545fa5c"
      },
      "execution_count": 9,
      "outputs": [
        {
          "output_type": "stream",
          "name": "stdout",
          "text": [
            "Elementos comuns entre frutas e citrus: {'laranja'}\n"
          ]
        }
      ]
    },
    {
      "cell_type": "markdown",
      "source": [
        "7. Encontre a diferença entre os conjuntos `frutas` e `citrus`, ou seja, os elementos que estão em `frutas` mas não estão em `citrus`. Exiba o resultado dessa diferença."
      ],
      "metadata": {
        "id": "0CmrGIpSfg0H"
      }
    },
    {
      "cell_type": "code",
      "source": [
        "frutas = {\"maçã\", \"banana\", \"uva\", \"morango\", \"laranja\"}\n",
        "\n",
        "citrus = {\"laranja\", \"limão\", \"tangerina\"}\n",
        "\n",
        "diferenca = frutas.difference(citrus)\n",
        "\n",
        "print(\"Elementos em frutas que não estão em citrus:\", diferenca)"
      ],
      "metadata": {
        "colab": {
          "base_uri": "https://localhost:8080/"
        },
        "id": "MravwxHYfnn0",
        "outputId": "08fb0581-f6a8-49bf-f8f9-24b1988cf6b7"
      },
      "execution_count": 10,
      "outputs": [
        {
          "output_type": "stream",
          "name": "stdout",
          "text": [
            "Elementos em frutas que não estão em citrus: {'morango', 'banana', 'uva', 'maçã'}\n"
          ]
        }
      ]
    },
    {
      "cell_type": "markdown",
      "source": [
        "8. Esvazie completamente o conjunto `citrus` usando um método específico que remove todos os elementos de um conjunto. Verifique se o conjunto foi realmente esvaziado ao exibi-lo no console após a operação."
      ],
      "metadata": {
        "id": "dgSeloF3fuiD"
      }
    },
    {
      "cell_type": "code",
      "source": [
        "citrus = {\"laranja\", \"limão\", \"tangerina\"}\n",
        "\n",
        "citrus.clear()\n",
        "\n",
        "print(\"Conjunto citrus após esvaziar:\", citrus)"
      ],
      "metadata": {
        "colab": {
          "base_uri": "https://localhost:8080/"
        },
        "id": "hYS4_H2Qfym-",
        "outputId": "54f6c74f-4e79-4cc8-f63f-f0f57e2e3c19"
      },
      "execution_count": 11,
      "outputs": [
        {
          "output_type": "stream",
          "name": "stdout",
          "text": [
            "Conjunto citrus após esvaziar: set()\n"
          ]
        }
      ]
    },
    {
      "cell_type": "markdown",
      "source": [
        "9. Converta o conjunto `frutas` em um conjunto imutável, ou seja, um conjunto que não pode ser alterado após sua criação. Crie esse conjunto imutável e exiba-o no console."
      ],
      "metadata": {
        "id": "FNS3TzZvf55K"
      }
    },
    {
      "cell_type": "code",
      "source": [
        "frutas = {\"maçã\", \"banana\", \"uva\", \"morango\"}\n",
        "\n",
        "frutas_imutaveis = frozenset(frutas)\n",
        "\n",
        "print(\"Conjunto imutável de frutas:\", frutas_imutaveis)"
      ],
      "metadata": {
        "colab": {
          "base_uri": "https://localhost:8080/"
        },
        "id": "nrVmdiKof987",
        "outputId": "67287fcb-7bb8-421d-88aa-e8b6b4fa3332"
      },
      "execution_count": 12,
      "outputs": [
        {
          "output_type": "stream",
          "name": "stdout",
          "text": [
            "Conjunto imutável de frutas: frozenset({'morango', 'banana', 'uva', 'maçã'})\n"
          ]
        }
      ]
    },
    {
      "cell_type": "markdown",
      "source": [
        "10. Conte quantos elementos únicos existem no conjunto `frutas` e exiba o número total de elementos no console."
      ],
      "metadata": {
        "id": "5CmeQoh5gFkq"
      }
    },
    {
      "cell_type": "code",
      "source": [
        "frutas = {\"maçã\", \"banana\", \"uva\", \"morango\"}\n",
        "\n",
        "numero_de_frutas = len(frutas)\n",
        "\n",
        "print(\"Número total de elementos únicos no conjunto frutas:\", numero_de_frutas)"
      ],
      "metadata": {
        "colab": {
          "base_uri": "https://localhost:8080/"
        },
        "id": "kdVQ3JUlgCqF",
        "outputId": "f9cf6a92-26e6-4ea3-f987-2fb38503abef"
      },
      "execution_count": 13,
      "outputs": [
        {
          "output_type": "stream",
          "name": "stdout",
          "text": [
            "Número total de elementos únicos no conjunto frutas: 4\n"
          ]
        }
      ]
    }
  ]
}