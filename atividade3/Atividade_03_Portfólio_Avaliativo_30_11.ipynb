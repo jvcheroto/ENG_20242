{
  "nbformat": 4,
  "nbformat_minor": 0,
  "metadata": {
    "colab": {
      "provenance": []
    },
    "kernelspec": {
      "name": "python3",
      "display_name": "Python 3"
    },
    "language_info": {
      "name": "python"
    }
  },
  "cells": [
    {
      "cell_type": "markdown",
      "source": [
        "##Lembre-se que como são funções lambda, precisam estar delineadas e testadas com funcionamento em 100% dos casos, os exemplos omissos deverão ser criados pelo aluno."
      ],
      "metadata": {
        "id": "gCLwO4vhPtCh"
      }
    },
    {
      "cell_type": "markdown",
      "source": [
        "1. Dada uma lista de números inteiros, use uma função lambda para retornar uma lista com o quadrado de cada número."
      ],
      "metadata": {
        "id": "gM03JosNPuaH"
      }
    },
    {
      "cell_type": "code",
      "execution_count": 9,
      "metadata": {
        "id": "UPp4rIDePlcM",
        "colab": {
          "base_uri": "https://localhost:8080/"
        },
        "outputId": "247cb7f0-54bc-4d4d-b59e-253ba60f0568"
      },
      "outputs": [
        {
          "output_type": "stream",
          "name": "stdout",
          "text": [
            "Digite números separados por espaço: 1 2 3 4 5 6\n",
            "A lista era: [1, 2, 3, 4, 5, 6] e passou a ser: [1, 4, 9, 16, 25, 36]\n"
          ]
        }
      ],
      "source": [
        "try:\n",
        "    numeros = list(map(float, input(\"Digite números separados por espaço: \").split()))\n",
        "    quadrados = list(map(lambda x: x**2, numeros))\n",
        "    numeros = [int(x) if x.is_integer() else x for x in numeros]\n",
        "    quadrados = [int(x) if x.is_integer() else x for x in quadrados]\n",
        "    print(f\"A lista era: {numeros} e passou a ser: {quadrados}\")\n",
        "except ValueError:\n",
        "    print(\"Erro: Digite apenas números.\")\n"
      ]
    },
    {
      "cell_type": "markdown",
      "source": [
        "2. Dada uma lista de temperaturas em Celsius, use uma função lambda para convertê-las em Fahrenheit."
      ],
      "metadata": {
        "id": "tlpXt4oE_Xtd"
      }
    },
    {
      "cell_type": "code",
      "source": [
        "try:\n",
        "    celsius = list(map(float, input(\"Digite temperaturas em Celsius separadas por espaço: \").split()))\n",
        "    fahrenheit = list(map(lambda x: (x * 9/5) + 32, celsius))\n",
        "    celsius = [int(x) if x.is_integer() else x for x in celsius]\n",
        "    fahrenheit = [int(x) if x.is_integer() else x for x in fahrenheit]\n",
        "    print(f\"A lista de temperaturas em Celsius era: {celsius} e em Fahrenheit é: {fahrenheit}\")\n",
        "except ValueError:\n",
        "    print(\"Erro: Certifique-se de digitar apenas números.\")\n"
      ],
      "metadata": {
        "colab": {
          "base_uri": "https://localhost:8080/"
        },
        "id": "7mY2urouA2pp",
        "outputId": "069ba363-afce-4fe5-e890-4e35862226a4"
      },
      "execution_count": 10,
      "outputs": [
        {
          "output_type": "stream",
          "name": "stdout",
          "text": [
            "Digite temperaturas em Celsius separadas por espaço: 45 57 67 78 55\n",
            "A lista de temperaturas em Celsius era: [45, 57, 67, 78, 55] e em Fahrenheit é: [113, 134.6, 152.6, 172.4, 131]\n"
          ]
        }
      ]
    },
    {
      "cell_type": "markdown",
      "source": [
        "3. Dada uma lista de palavras, use uma função lambda para retornar uma lista com o comprimento de cada palavra."
      ],
      "metadata": {
        "id": "7UL1mIYlA2Cb"
      }
    },
    {
      "cell_type": "code",
      "source": [
        "try:\n",
        "    palavras = input(\"Digite algumas palavras separadas por espaço: \").split()\n",
        "\n",
        "    if not all(isinstance(palavra, str) for palavra in palavras):\n",
        "        raise ValueError(\"Por favor, digite apenas palavras válidas.\")\n",
        "\n",
        "    comprimentos = list(map(lambda x: len(x), palavras))\n",
        "    print(f\"As palavras que você digitou são: {palavras}\")\n",
        "    print(f\"E os comprimentos de cada uma delas são: {comprimentos}\")\n",
        "except ValueError as e:\n",
        "    print(f\"Oops! Algo deu errado: {e}\")\n"
      ],
      "metadata": {
        "colab": {
          "base_uri": "https://localhost:8080/"
        },
        "id": "fSwukjFXBXxi",
        "outputId": "c7767877-8abf-44d6-8771-c9c2fc5ebc81"
      },
      "execution_count": 11,
      "outputs": [
        {
          "output_type": "stream",
          "name": "stdout",
          "text": [
            "Digite algumas palavras separadas por espaço: pagode dança musica\n",
            "As palavras que você digitou são: ['pagode', 'dança', 'musica']\n",
            "E os comprimentos de cada uma delas são: [6, 5, 6]\n"
          ]
        }
      ]
    },
    {
      "cell_type": "markdown",
      "source": [
        "4. Use uma função lambda para dobrar os valores de uma lista de inteiros."
      ],
      "metadata": {
        "id": "6urd_jalB1ph"
      }
    },
    {
      "cell_type": "code",
      "source": [
        "try:\n",
        "    numeros = input(\"Digite uma lista de números inteiros separados por espaço: \").split()\n",
        "\n",
        "    numeros = [int(num) for num in numeros]\n",
        "\n",
        "    dobrados = list(map(lambda x: x * 2, numeros))\n",
        "\n",
        "    print(f\"As listas que você digitou foram: {numeros}\")\n",
        "    print(f\"E os valores dobrados são: {dobrados}\")\n",
        "\n",
        "except ValueError:\n",
        "    print(\"Oops! Parece que você não digitou apenas números inteiros. Tente novamente.\")\n",
        "\n"
      ],
      "metadata": {
        "colab": {
          "base_uri": "https://localhost:8080/"
        },
        "id": "YwrbmB-BB7Op",
        "outputId": "6234ff57-5c46-424d-9ae5-e2f137ebee60"
      },
      "execution_count": 12,
      "outputs": [
        {
          "output_type": "stream",
          "name": "stdout",
          "text": [
            "Digite uma lista de números inteiros separados por espaço: 2 4 6 8 9 10\n",
            "As listas que você digitou foram: [2, 4, 6, 8, 9, 10]\n",
            "E os valores dobrados são: [4, 8, 12, 16, 18, 20]\n"
          ]
        }
      ]
    },
    {
      "cell_type": "markdown",
      "source": [
        "5. Dada uma lista de nomes, use uma função lambda para adicionar o prefixo \"Sr./Sra.\" antes de cada nome."
      ],
      "metadata": {
        "id": "MKqGKc1PCKtg"
      }
    },
    {
      "cell_type": "code",
      "source": [
        "try:\n",
        "    nomes = input(\"Digite uma lista de nomes separados por espaço (ex: João, Maria): \").split()\n",
        "    generos = input(\"Digite o gênero de cada pessoa (M para masculino e F para feminino) separados por espaço: \").split()\n",
        "\n",
        "    if len(nomes) != len(generos):\n",
        "        raise ValueError(\"A quantidade de nomes e gêneros deve ser igual.\")\n",
        "\n",
        "    nomes_com_prefixo = list(map(lambda nome, genero: f\"Sr. {nome}\" if genero.upper() == \"M\" else f\"Sra. {nome}\", nomes, generos))\n",
        "\n",
        "    print(f\"A lista de nomes que você digitou foi: {nomes}\")\n",
        "    print(f\"E os nomes com o prefixo são: {nomes_com_prefixo}\")\n",
        "\n",
        "except ValueError as e:\n",
        "    print(f\"Erro: {e}\")\n",
        "\n"
      ],
      "metadata": {
        "colab": {
          "base_uri": "https://localhost:8080/"
        },
        "id": "UcDWcUZGCNRn",
        "outputId": "40479d1c-6350-4b6e-89fc-fa44457a3f71"
      },
      "execution_count": 14,
      "outputs": [
        {
          "output_type": "stream",
          "name": "stdout",
          "text": [
            "Digite uma lista de nomes separados por espaço (ex: João, Maria): João Gabriely Rafinha\n",
            "Digite o gênero de cada pessoa (M para masculino e F para feminino) separados por espaço: M F M\n",
            "A lista de nomes que você digitou foi: ['João', 'Gabriely', 'Rafinha']\n",
            "E os nomes com o prefixo são: ['Sr. João', 'Sra. Gabriely', 'Sr. Rafinha']\n"
          ]
        }
      ]
    },
    {
      "cell_type": "markdown",
      "source": [
        "6. Dada uma lista de números, use uma função lambda para retornar apenas os números pares."
      ],
      "metadata": {
        "id": "kF9C4EkFCxgp"
      }
    },
    {
      "cell_type": "code",
      "source": [
        "try:\n",
        "    numeros = input(\"Digite uma lista de números separados por espaço: \").split()\n",
        "\n",
        "\n",
        "    numeros = [int(num) for num in numeros]\n",
        "\n",
        "\n",
        "    pares = list(filter(lambda x: x % 2 == 0, numeros))\n",
        "\n",
        "    print(f\"A lista de números que você digitou foi: {numeros}\")\n",
        "    print(f\"E os números pares são: {pares}\")\n",
        "\n",
        "except ValueError:\n",
        "    print(\"Oops! Parece que você não digitou apenas números inteiros. Tente novamente.\")\n"
      ],
      "metadata": {
        "colab": {
          "base_uri": "https://localhost:8080/"
        },
        "id": "nbaPYUvcCzCP",
        "outputId": "08385ba8-29f9-44f9-ad0a-9a5d43d841ce"
      },
      "execution_count": 15,
      "outputs": [
        {
          "output_type": "stream",
          "name": "stdout",
          "text": [
            "Digite uma lista de números separados por espaço: 14 16 20 19 10 29\n",
            "A lista de números que você digitou foi: [14, 16, 20, 19, 10, 29]\n",
            "E os números pares são: [14, 16, 20, 10]\n"
          ]
        }
      ]
    },
    {
      "cell_type": "markdown",
      "source": [
        "7. Dada uma lista de palavras, use uma função lambda para retornar apenas as palavras com menos de 5 caracteres."
      ],
      "metadata": {
        "id": "82Y0HXy7CxYx"
      }
    },
    {
      "cell_type": "code",
      "source": [
        "try:\n",
        "    palavras = input(\"Digite uma lista de palavras separadas por espaço: \").split()\n",
        "\n",
        "\n",
        "    curtas = list(filter(lambda palavra: len(palavra) < 5, palavras))\n",
        "\n",
        "    print(f\"A lista de palavras que você digitou foi: {palavras}\")\n",
        "    print(f\"As palavras com menos de 5 caracteres são: {curtas}\")\n",
        "\n",
        "except ValueError:\n",
        "    print(\"Oops! Algo deu errado. Tente novamente.\")\n"
      ],
      "metadata": {
        "colab": {
          "base_uri": "https://localhost:8080/"
        },
        "id": "gIdZ_1KdDG3W",
        "outputId": "32882aeb-0fdf-4eee-ec81-896c1fd387a7"
      },
      "execution_count": 16,
      "outputs": [
        {
          "output_type": "stream",
          "name": "stdout",
          "text": [
            "Digite uma lista de palavras separadas por espaço: Masculinidade Perfeição cimento maçã\n",
            "A lista de palavras que você digitou foi: ['Masculinidade', 'Perfeição', 'cimento', 'maçã']\n",
            "As palavras com menos de 5 caracteres são: ['maçã']\n"
          ]
        }
      ]
    },
    {
      "cell_type": "markdown",
      "source": [
        "8. Dada uma lista de idades, use uma função lambda para retornar apenas as idades maiores que 18."
      ],
      "metadata": {
        "id": "M1hBFzmvDT8P"
      }
    },
    {
      "cell_type": "code",
      "source": [
        "try:\n",
        "    idades = input(\"Digite uma lista de idades separadas por espaço: \").split()\n",
        "\n",
        "\n",
        "    idades = [int(idade) for idade in idades]\n",
        "\n",
        "\n",
        "    maiores_de_18 = list(filter(lambda idade: idade > 18, idades))\n",
        "\n",
        "    print(f\"A lista de idades que você digitou foi: {idades}\")\n",
        "    print(f\"As idades maiores que 18 são: {maiores_de_18}\")\n",
        "\n",
        "except ValueError:\n",
        "    print(\"Oops! Parece que você não digitou apenas números inteiros. Tente novamente.\")\n"
      ],
      "metadata": {
        "colab": {
          "base_uri": "https://localhost:8080/"
        },
        "id": "bgP5rA-_DZ_z",
        "outputId": "b5451263-feeb-4785-fba1-c7bae8b8ba2a"
      },
      "execution_count": 17,
      "outputs": [
        {
          "output_type": "stream",
          "name": "stdout",
          "text": [
            "Digite uma lista de idades separadas por espaço: 19 23 30 9 \n",
            "A lista de idades que você digitou foi: [19, 23, 30, 9]\n",
            "As idades maiores que 18 são: [19, 23, 30]\n"
          ]
        }
      ]
    },
    {
      "cell_type": "markdown",
      "source": [
        "9. Dada uma lista de strings, use uma função lambda para retornar as strings que começam com a letra \"a\"."
      ],
      "metadata": {
        "id": "cbWFrafmDn-5"
      }
    },
    {
      "cell_type": "code",
      "source": [
        "try:\n",
        "    strings = input(\"Digite uma lista de palavras separadas por espaço: \").split()\n",
        "\n",
        "\n",
        "    com_a = list(filter(lambda palavra: palavra.lower().startswith('a'), strings))\n",
        "\n",
        "    print(f\"A lista de palavras que você digitou foi: {strings}\")\n",
        "    print(f\"As palavras que começam com a letra 'a' são: {com_a}\")\n",
        "\n",
        "except ValueError:\n",
        "    print(\"Oops! Algo deu errado. Tente novamente.\")\n"
      ],
      "metadata": {
        "colab": {
          "base_uri": "https://localhost:8080/"
        },
        "id": "EQMM__8LDqc8",
        "outputId": "0c628ac1-96d4-42b8-c57f-71fcc4e944a6"
      },
      "execution_count": 18,
      "outputs": [
        {
          "output_type": "stream",
          "name": "stdout",
          "text": [
            "Digite uma lista de palavras separadas por espaço: assado libertadores botafogo amigo\n",
            "A lista de palavras que você digitou foi: ['assado', 'libertadores', 'botafogo', 'amigo']\n",
            "As palavras que começam com a letra 'a' são: ['assado', 'amigo']\n"
          ]
        }
      ]
    },
    {
      "cell_type": "markdown",
      "source": [
        "10. Dada uma lista de números inteiros, use uma função lambda para retornar apenas os números positivos.\n"
      ],
      "metadata": {
        "id": "nekLTYBHD47q"
      }
    },
    {
      "cell_type": "code",
      "source": [
        "try:\n",
        "    numeros = input(\"Digite uma lista de números inteiros separados por espaço: \").split()\n",
        "\n",
        "\n",
        "    numeros = [int(num) for num in numeros]\n",
        "\n",
        "\n",
        "    positivos = list(filter(lambda x: x > 0, numeros))\n",
        "\n",
        "    print(f\"A lista de números que você digitou foi: {numeros}\")\n",
        "    print(f\"Os números positivos são: {positivos}\")\n",
        "\n",
        "except ValueError:\n",
        "    print(\"Oops! Parece que você não digitou apenas números inteiros. Tente novamente.\")\n"
      ],
      "metadata": {
        "colab": {
          "base_uri": "https://localhost:8080/"
        },
        "id": "F6YdanRhD9K7",
        "outputId": "e4922181-3119-4f0a-ad25-72800d0ba671"
      },
      "execution_count": 19,
      "outputs": [
        {
          "output_type": "stream",
          "name": "stdout",
          "text": [
            "Digite uma lista de números inteiros separados por espaço: -19 10 24 -8 -5 -0 45\n",
            "A lista de números que você digitou foi: [-19, 10, 24, -8, -5, 0, 45]\n",
            "Os números positivos são: [10, 24, 45]\n"
          ]
        }
      ]
    },
    {
      "cell_type": "markdown",
      "source": [
        "11. Use uma função lambda para calcular a soma de uma lista de números."
      ],
      "metadata": {
        "id": "cXT6m97YEGsm"
      }
    },
    {
      "cell_type": "code",
      "source": [
        "\n",
        "try:\n",
        "    numeros = input(\"Digite uma lista de números separados por espaço: \").split()\n",
        "    numeros = [float(num) for num in numeros]\n",
        "    soma = sum(numeros)\n",
        "    print(f\"A soma dos números na lista {numeros} é: {soma}\")\n",
        "except ValueError:\n",
        "    print(\"Oops! Parece que você não digitou apenas números. Tente novamente.\")"
      ],
      "metadata": {
        "colab": {
          "base_uri": "https://localhost:8080/"
        },
        "id": "6qx5TtmtENAE",
        "outputId": "40e34499-f7c9-4f77-d3e1-9ede6df21fa5"
      },
      "execution_count": 20,
      "outputs": [
        {
          "output_type": "stream",
          "name": "stdout",
          "text": [
            "Digite uma lista de números separados por espaço: 15 25 35 50 50 50\n",
            "A soma dos números na lista [15.0, 25.0, 35.0, 50.0, 50.0, 50.0] é: 225.0\n"
          ]
        }
      ]
    },
    {
      "cell_type": "markdown",
      "source": [
        "12. Use uma função lambda para multiplicar todos os elementos de uma lista."
      ],
      "metadata": {
        "id": "XRPjT1DhEqRl"
      }
    },
    {
      "cell_type": "code",
      "source": [
        "from functools import reduce\n",
        "\n",
        "try:\n",
        "    numeros = input(\"Digite uma lista de números separados por espaço: \").split()\n",
        "\n",
        "\n",
        "    numeros = [int(num) for num in numeros]\n",
        "\n",
        "\n",
        "    produto = reduce(lambda x, y: x * y, numeros)\n",
        "\n",
        "    print(f\"A lista de números que você digitou foi: {numeros}\")\n",
        "    print(f\"O produto de todos os números é: {produto}\")\n",
        "\n",
        "except ValueError:\n",
        "    print(\"Oops! Parece que você não digitou apenas números inteiros. Tente novamente.\")\n",
        "except NameError:\n",
        "    print(\"Parece que você esqueceu de importar a função 'reduce'. Vamos corrigir isso!\")\n"
      ],
      "metadata": {
        "colab": {
          "base_uri": "https://localhost:8080/"
        },
        "id": "CqMHyDTtEvSm",
        "outputId": "f89cf837-48ce-472a-8635-9829780426a3"
      },
      "execution_count": 21,
      "outputs": [
        {
          "output_type": "stream",
          "name": "stdout",
          "text": [
            "Digite uma lista de números separados por espaço: 20 10 1 2 40\n",
            "A lista de números que você digitou foi: [20, 10, 1, 2, 40]\n",
            "O produto de todos os números é: 16000\n"
          ]
        }
      ]
    },
    {
      "cell_type": "markdown",
      "source": [
        "13. Use uma função lambda para encontrar o maior número em uma lista."
      ],
      "metadata": {
        "id": "u14Z94-wE7x_"
      }
    },
    {
      "cell_type": "code",
      "source": [
        "from functools import reduce\n",
        "\n",
        "try:\n",
        "    numeros = input(\"Digite uma lista de números separados por espaço: \").split()\n",
        "    numeros = [int(num) for num in numeros]\n",
        "    maior_numero = reduce(lambda x, y: x if x > y else y, numeros)\n",
        "    print(f\"A lista de números que você digitou foi: {numeros}\")\n",
        "    print(f\"O maior número é: {maior_numero}\")\n",
        "\n",
        "except ValueError:\n",
        "    print(\"Oops! Parece que você não digitou apenas números inteiros. Tente novamente.\")\n",
        "except NameError:\n",
        "    print(\"Parece que você esqueceu de importar a função 'reduce'. Vamos corrigir isso!\")\n"
      ],
      "metadata": {
        "colab": {
          "base_uri": "https://localhost:8080/"
        },
        "id": "vC8yckDEFGhD",
        "outputId": "6a10ad04-a096-4bef-8247-01cf6764b0a9"
      },
      "execution_count": 22,
      "outputs": [
        {
          "output_type": "stream",
          "name": "stdout",
          "text": [
            "Digite uma lista de números separados por espaço: 2 50 10505 20 1 2\n",
            "A lista de números que você digitou foi: [2, 50, 10505, 20, 1, 2]\n",
            "O maior número é: 10505\n"
          ]
        }
      ]
    },
    {
      "cell_type": "markdown",
      "source": [
        "14. Use uma função lambda para concatenar uma lista de palavras em uma única string separada por espaços."
      ],
      "metadata": {
        "id": "61JiJePZFNvH"
      }
    },
    {
      "cell_type": "code",
      "source": [
        "try:\n",
        "    palavras = input(\"Digite uma lista de palavras separadas por espaço: \").split()\n",
        "    frase = reduce(lambda x, y: x + \" \" + y, palavras)\n",
        "    print(f\"A lista de palavras que você digitou foi: {palavras}\")\n",
        "    print(f\"A frase concatenada é: {frase}\")\n",
        "\n",
        "except ValueError:\n",
        "    print(\"Oops! Parece que algo deu errado. Tente novamente.\")\n",
        "except NameError:\n",
        "    print(\"Parece que você esqueceu de importar a função 'reduce'. Vamos corrigir isso!\")\n",
        "\n"
      ],
      "metadata": {
        "colab": {
          "base_uri": "https://localhost:8080/"
        },
        "id": "7cMbmmEqFRuD",
        "outputId": "08cc1a9b-b1df-49a4-cd2f-fe300a4b8de6"
      },
      "execution_count": 23,
      "outputs": [
        {
          "output_type": "stream",
          "name": "stdout",
          "text": [
            "Digite uma lista de palavras separadas por espaço: João Igreja Botafogo Musica\n",
            "A lista de palavras que você digitou foi: ['João', 'Igreja', 'Botafogo', 'Musica']\n",
            "A frase concatenada é: João Igreja Botafogo Musica\n"
          ]
        }
      ]
    },
    {
      "cell_type": "markdown",
      "source": [
        "15. Use uma função lambda para somar os dígitos de uma lista de inteiros, onde cada número é tratado individualmente."
      ],
      "metadata": {
        "id": "ArDkPRZAFdBe"
      }
    },
    {
      "cell_type": "code",
      "source": [
        "from functools import reduce\n",
        "\n",
        "try:\n",
        "    numeros = input(\"Digite uma lista de números inteiros separados por espaço: \").split()\n",
        "    numeros = [int(num) for num in numeros]\n",
        "\n",
        "    soma_digitos = reduce(lambda total, num: total + sum(int(digit) for digit in str(num)), numeros, 0)\n",
        "\n",
        "    print(f\"A lista de números que você digitou foi: {numeros}\")\n",
        "    print(f\"A soma dos dígitos de todos os números é: {soma_digitos}\")\n",
        "\n",
        "except ValueError:\n",
        "    print(\"Oops! Parece que você não digitou apenas números inteiros. Tente novamente.\")\n",
        "except NameError:\n",
        "    print(\"Parece que você esqueceu de importar a função 'reduce'. Vamos corrigir isso!\")\n"
      ],
      "metadata": {
        "colab": {
          "base_uri": "https://localhost:8080/"
        },
        "id": "ijxGEjsuFg_4",
        "outputId": "935e8b59-fafe-4b9a-a077-002399e2dc49"
      },
      "execution_count": 24,
      "outputs": [
        {
          "output_type": "stream",
          "name": "stdout",
          "text": [
            "Digite uma lista de números inteiros separados por espaço: 40 20 10 50\n",
            "A lista de números que você digitou foi: [40, 20, 10, 50]\n",
            "A soma dos dígitos de todos os números é: 12\n"
          ]
        }
      ]
    },
    {
      "cell_type": "markdown",
      "source": [
        "16. Use uma função lambda para dobrar os números de uma lista e retornar apenas os números que são maiores que 20."
      ],
      "metadata": {
        "id": "j-ZlF-avFvMB"
      }
    },
    {
      "cell_type": "code",
      "source": [
        "try:\n",
        "    numeros = input(\"Digite uma lista de números inteiros separados por espaço: \").split()\n",
        "    numeros = [int(num) for num in numeros]\n",
        "\n",
        "\n",
        "    resultado = list(filter(lambda x: x > 20, map(lambda x: x * 2, numeros)))\n",
        "\n",
        "    print(f\"A lista de números que você digitou foi: {numeros}\")\n",
        "    print(f\"Os números dobrados e maiores que 20 são: {resultado}\")\n",
        "\n",
        "except ValueError:\n",
        "    print(\"Oops! Parece que você não digitou apenas números inteiros. Tente novamente.\")\n"
      ],
      "metadata": {
        "colab": {
          "base_uri": "https://localhost:8080/"
        },
        "id": "XgYy-ow-FyzE",
        "outputId": "21b359b9-f7eb-4a81-c5d4-ea69378b7c19"
      },
      "execution_count": 25,
      "outputs": [
        {
          "output_type": "stream",
          "name": "stdout",
          "text": [
            "Digite uma lista de números inteiros separados por espaço: 10 2 5 4 2 1\n",
            "A lista de números que você digitou foi: [10, 2, 5, 4, 2, 1]\n",
            "Os números dobrados e maiores que 20 são: []\n"
          ]
        }
      ]
    },
    {
      "cell_type": "markdown",
      "source": [
        "17. Dada uma lista de palavras, use uma função lambda para encontrar todas as palavras que contêm a letra \"e\" e conte quantas são."
      ],
      "metadata": {
        "id": "GjFhZwb2GDu4"
      }
    },
    {
      "cell_type": "code",
      "source": [
        "try:\n",
        "    palavras = input(\"Digite uma lista de palavras separadas por espaço: \").split()\n",
        "\n",
        "    palavras_com_e = list(filter(lambda palavra: 'e' in palavra.lower(), palavras))\n",
        "\n",
        "    print(f\"A lista de palavras que você digitou foi: {palavras}\")\n",
        "    print(f\"As palavras que contêm a letra 'e' são: {palavras_com_e}\")\n",
        "    print(f\"Total de palavras que contêm a letra 'e': {len(palavras_com_e)}\")\n",
        "\n",
        "except ValueError:\n",
        "    print(\"Oops! Algo deu errado. Tente novamente.\")\n"
      ],
      "metadata": {
        "colab": {
          "base_uri": "https://localhost:8080/"
        },
        "id": "NdaNjjctGFUA",
        "outputId": "091fc2a1-11c8-498e-87fd-429af72b9f4d"
      },
      "execution_count": 26,
      "outputs": [
        {
          "output_type": "stream",
          "name": "stdout",
          "text": [
            "Digite uma lista de palavras separadas por espaço: escola sergio eliminado estudar casa\n",
            "A lista de palavras que você digitou foi: ['escola', 'sergio', 'eliminado', 'estudar', 'casa']\n",
            "As palavras que contêm a letra 'e' são: ['escola', 'sergio', 'eliminado', 'estudar']\n",
            "Total de palavras que contêm a letra 'e': 4\n"
          ]
        }
      ]
    },
    {
      "cell_type": "markdown",
      "source": [
        "18. Converta uma lista de temperaturas de Fahrenheit para Celsius usando uma função lambda e, em seguida, retorne apenas as temperaturas abaixo de 20°C."
      ],
      "metadata": {
        "id": "Ub8zvwnYGRCD"
      }
    },
    {
      "cell_type": "code",
      "source": [
        "try:\n",
        "    temperaturas_fahrenheit = input(\"Digite uma lista de temperaturas em Fahrenheit separadas por espaço: \").split()\n",
        "    temperaturas_fahrenheit = [float(temp) for temp in temperaturas_fahrenheit]\n",
        "\n",
        "\n",
        "    temperaturas_celsius = list(filter(lambda temp: temp < 20, map(lambda f: (f - 32) * 5/9, temperaturas_fahrenheit)))\n",
        "\n",
        "    print(f\"As temperaturas em Fahrenheit que você digitou foram: {temperaturas_fahrenheit}\")\n",
        "    print(f\"As temperaturas em Celsius abaixo de 20°C são: {temperaturas_celsius}\")\n",
        "\n",
        "except ValueError:\n",
        "    print(\"Oops! Parece que você não digitou apenas números válidos. Tente novamente.\")\n"
      ],
      "metadata": {
        "colab": {
          "base_uri": "https://localhost:8080/"
        },
        "id": "5S4aTC2FGU4u",
        "outputId": "bb146e59-1a27-424e-bb98-1144a523a85b"
      },
      "execution_count": 27,
      "outputs": [
        {
          "output_type": "stream",
          "name": "stdout",
          "text": [
            "Digite uma lista de temperaturas em Fahrenheit separadas por espaço: 45 66 55 75\n",
            "As temperaturas em Fahrenheit que você digitou foram: [45.0, 66.0, 55.0, 75.0]\n",
            "As temperaturas em Celsius abaixo de 20°C são: [7.222222222222222, 18.88888888888889, 12.777777777777779]\n"
          ]
        }
      ]
    },
    {
      "cell_type": "markdown",
      "source": [
        "19. Use uma função lambda para selecionar apenas os números pares de uma lista e, em seguida, somar esses números."
      ],
      "metadata": {
        "id": "jdPnd97tGUi9"
      }
    },
    {
      "cell_type": "code",
      "source": [
        "try:\n",
        "    numeros = input(\"Digite uma lista de números inteiros separados por espaço: \").split()\n",
        "    numeros = [int(num) for num in numeros]\n",
        "\n",
        "\n",
        "\n",
        "    soma_pares = sum(filter(lambda x: x % 2 == 0, numeros))\n",
        "\n",
        "    print(f\"A lista de números que você digitou foi: {numeros}\")\n",
        "    print(f\"A soma dos números pares é: {soma_pares}\")\n",
        "\n",
        "except ValueError:\n",
        "    print(\"Oops! Parece que você não digitou apenas números inteiros. Tente novamente.\")\n",
        "\n"
      ],
      "metadata": {
        "colab": {
          "base_uri": "https://localhost:8080/"
        },
        "id": "-f4cxDBfGkRd",
        "outputId": "37694ad9-dbaf-42e2-a773-192ec245e78f"
      },
      "execution_count": 28,
      "outputs": [
        {
          "output_type": "stream",
          "name": "stdout",
          "text": [
            "Digite uma lista de números inteiros separados por espaço: 13 14 15 16 17 20 21 \n",
            "A lista de números que você digitou foi: [13, 14, 15, 16, 17, 20, 21]\n",
            "A soma dos números pares é: 50\n"
          ]
        }
      ]
    },
    {
      "cell_type": "markdown",
      "source": [
        "20. Use uma função lambda para substituir números negativos de uma lista por 0 e manter os positivos."
      ],
      "metadata": {
        "id": "Y6rtzud0Gsis"
      }
    },
    {
      "cell_type": "code",
      "source": [
        "try:\n",
        "    numeros = input(\"Digite uma lista de números inteiros separados por espaço: \").split()\n",
        "    numeros = [int(num) for num in numeros]\n",
        "\n",
        "\n",
        "    lista_modificada = list(map(lambda x: x if x >= 0 else 0, numeros))\n",
        "\n",
        "    print(f\"A lista de números que você digitou foi: {numeros}\")\n",
        "    print(f\"A lista modificada é: {lista_modificada}\")\n",
        "\n",
        "except ValueError:\n",
        "    print(\"Oops! Parece que você não digitou apenas números inteiros. Tente novamente.\")\n"
      ],
      "metadata": {
        "colab": {
          "base_uri": "https://localhost:8080/"
        },
        "id": "CNM2Y_E4Gwwk",
        "outputId": "945c63d3-5366-4b6c-e40e-f625428e5b21"
      },
      "execution_count": 29,
      "outputs": [
        {
          "output_type": "stream",
          "name": "stdout",
          "text": [
            "Digite uma lista de números inteiros separados por espaço: -15 20 10 -2 - 8 - 7 18\n",
            "Oops! Parece que você não digitou apenas números inteiros. Tente novamente.\n"
          ]
        }
      ]
    },
    {
      "cell_type": "markdown",
      "source": [
        "21. Use uma função lambda para retornar a lista de cubos de cada elemento em uma lista de números."
      ],
      "metadata": {
        "id": "fxzuCL1nG8S_"
      }
    },
    {
      "cell_type": "code",
      "source": [
        "try:\n",
        "    numeros = input(\"Digite uma lista de números inteiros separados por espaço: \").split()\n",
        "    numeros = [int(num) for num in numeros]\n",
        "\n",
        "\n",
        "    cubos = list(map(lambda x: x ** 3, numeros))\n",
        "\n",
        "    print(f\"A lista de números que você digitou foi: {numeros}\")\n",
        "    print(f\"A lista de cubos dos números é: {cubos}\")\n",
        "\n",
        "except ValueError:\n",
        "    print(\"Oops! Parece que você não digitou apenas números inteiros. Tente novamente.\")\n"
      ],
      "metadata": {
        "colab": {
          "base_uri": "https://localhost:8080/"
        },
        "id": "ocwveubxHArw",
        "outputId": "3d73525b-c2ad-4385-b167-322c822ee586"
      },
      "execution_count": 31,
      "outputs": [
        {
          "output_type": "stream",
          "name": "stdout",
          "text": [
            "Digite uma lista de números inteiros separados por espaço: 3 6 9 10 12\n",
            "A lista de números que você digitou foi: [3, 6, 9, 10, 12]\n",
            "A lista de cubos dos números é: [27, 216, 729, 1000, 1728]\n"
          ]
        }
      ]
    },
    {
      "cell_type": "markdown",
      "source": [
        "22. Use uma função lambda para verificar se um número dado é primo (retornando True ou False)."
      ],
      "metadata": {
        "id": "CBtEoXaPHhb_"
      }
    },
    {
      "cell_type": "code",
      "source": [
        "try:\n",
        "    numero = int(input(\"Digite um número para verificar se é primo: \"))\n",
        "\n",
        "\n",
        "    primo = lambda n: n > 1 and all(n % i != 0 for i in range(2, int(n ** 0.5) + 1))\n",
        "\n",
        "    if primo(numero):\n",
        "        print(f\"O número {numero} é primo.\")\n",
        "    else:\n",
        "        print(f\"O número {numero} não é primo.\")\n",
        "\n",
        "except ValueError:\n",
        "    print(\"Oops! Parece que você não digitou um número válido. Tente novamente.\")\n",
        "\n"
      ],
      "metadata": {
        "colab": {
          "base_uri": "https://localhost:8080/"
        },
        "id": "hcInWDzlHi7K",
        "outputId": "9e16f072-d06d-46c6-9a72-79fee6585d88"
      },
      "execution_count": 33,
      "outputs": [
        {
          "output_type": "stream",
          "name": "stdout",
          "text": [
            "Digite um número para verificar se é primo: 2\n",
            "O número 2 é primo.\n"
          ]
        }
      ]
    },
    {
      "cell_type": "markdown",
      "source": [
        "23. Use uma função lambda para dividir cada elemento de uma lista por 5 e retornar a nova lista."
      ],
      "metadata": {
        "id": "ZhJe0pzVHwNi"
      }
    },
    {
      "cell_type": "code",
      "source": [
        "try:\n",
        "    numeros = input(\"Digite uma lista de números inteiros separados por espaço: \").split()\n",
        "    numeros = [int(num) for num in numeros]\n",
        "\n",
        "\n",
        "    divididos_por_5 = list(map(lambda x: x / 5, numeros))\n",
        "\n",
        "    print(f\"A lista de números que você digitou foi: {numeros}\")\n",
        "    print(f\"A nova lista com os números divididos por 5 é: {divididos_por_5}\")\n",
        "\n",
        "except ValueError:\n",
        "    print(\"Oops! Parece que você não digitou apenas números inteiros. Tente novamente.\")\n"
      ],
      "metadata": {
        "colab": {
          "base_uri": "https://localhost:8080/"
        },
        "id": "edKjGCWRHxSW",
        "outputId": "e65056e8-eaa0-46c0-bb1c-305ae3cb654d"
      },
      "execution_count": 34,
      "outputs": [
        {
          "output_type": "stream",
          "name": "stdout",
          "text": [
            "Digite uma lista de números inteiros separados por espaço: 5 10 15 20 25 30 35\n",
            "A lista de números que você digitou foi: [5, 10, 15, 20, 25, 30, 35]\n",
            "A nova lista com os números divididos por 5 é: [1.0, 2.0, 3.0, 4.0, 5.0, 6.0, 7.0]\n"
          ]
        }
      ]
    },
    {
      "cell_type": "markdown",
      "source": [
        "24. Use uma função lambda para remover todas as vogais de uma string dada."
      ],
      "metadata": {
        "id": "4UtiuxqGIHaM"
      }
    },
    {
      "cell_type": "code",
      "source": [
        "try:\n",
        "    texto = input(\"Digite uma string: \")\n",
        "\n",
        "    #\n",
        "    sem_vogais = ''.join(filter(lambda x: x.lower() not in 'aeiouáéíóúãâàêîôûäëïöü', texto))\n",
        "\n",
        "    print(f\"A string original era: {texto}\")\n",
        "    print(f\"A string sem as vogais é: {sem_vogais}\")\n",
        "\n",
        "except ValueError:\n",
        "    print(\"Oops! Parece que houve um erro. Tente novamente.\")\n"
      ],
      "metadata": {
        "colab": {
          "base_uri": "https://localhost:8080/"
        },
        "id": "Qfbn76V7IK87",
        "outputId": "c040e17f-ab4a-445f-cb81-9809ec2898e0"
      },
      "execution_count": 37,
      "outputs": [
        {
          "output_type": "stream",
          "name": "stdout",
          "text": [
            "Digite uma string: olá mundo\n",
            "A string original era: olá mundo\n",
            "A string sem as vogais é: l mnd\n"
          ]
        }
      ]
    },
    {
      "cell_type": "markdown",
      "source": [
        "25. Use uma função lambda para converter todas as palavras em uma lista para letras maiúsculas."
      ],
      "metadata": {
        "id": "LOzizjtXI1Df"
      }
    },
    {
      "cell_type": "code",
      "source": [
        "try:\n",
        "    palavras = input(\"Digite uma lista de palavras separadas por espaço: \").split()\n",
        "\n",
        "\n",
        "    palavras_maiusculas = list(map(lambda x: x.upper(), palavras))\n",
        "\n",
        "    print(f\"A lista de palavras que você digitou foi: {palavras}\")\n",
        "    print(f\"A lista com as palavras em maiúsculas é: {palavras_maiusculas}\")\n",
        "\n",
        "except ValueError:\n",
        "    print(\"Oops! Parece que houve um erro. Tente novamente.\")\n"
      ],
      "metadata": {
        "colab": {
          "base_uri": "https://localhost:8080/"
        },
        "id": "WZnkP-aEI2q7",
        "outputId": "d88eab85-ec85-47ab-e23f-ee1fae013670"
      },
      "execution_count": 38,
      "outputs": [
        {
          "output_type": "stream",
          "name": "stdout",
          "text": [
            "Digite uma lista de palavras separadas por espaço: botafogo campeão da liberta\n",
            "A lista de palavras que você digitou foi: ['botafogo', 'campeão', 'da', 'liberta']\n",
            "A lista com as palavras em maiúsculas é: ['BOTAFOGO', 'CAMPEÃO', 'DA', 'LIBERTA']\n"
          ]
        }
      ]
    },
    {
      "cell_type": "markdown",
      "source": [
        "26. Use uma função lambda para retornar apenas os números negativos de uma lista de inteiros."
      ],
      "metadata": {
        "id": "jdiORsrGJH2w"
      }
    },
    {
      "cell_type": "code",
      "source": [
        "try:\n",
        "    numeros = input(\"Digite uma lista de números inteiros separados por espaço: \").split()\n",
        "    numeros = [int(num) for num in numeros]\n",
        "\n",
        "\n",
        "    negativos = list(filter(lambda x: x < 0, numeros))\n",
        "\n",
        "    print(f\"A lista de números que você digitou foi: {numeros}\")\n",
        "    print(f\"A lista de números negativos é: {negativos}\")\n",
        "\n",
        "except ValueError:\n",
        "    print(\"Oops! Parece que você não digitou apenas números inteiros. Tente novamente.\")\n"
      ],
      "metadata": {
        "colab": {
          "base_uri": "https://localhost:8080/"
        },
        "id": "PoGcmZ35JJtP",
        "outputId": "60566a4d-1a14-42e0-eb11-e2f1100b1a4a"
      },
      "execution_count": 40,
      "outputs": [
        {
          "output_type": "stream",
          "name": "stdout",
          "text": [
            "Digite uma lista de números inteiros separados por espaço: -10 -5 20 -50 10 20 30 -20\n",
            "A lista de números que você digitou foi: [-10, -5, 20, -50, 10, 20, 30, -20]\n",
            "A lista de números negativos é: [-10, -5, -50, -20]\n"
          ]
        }
      ]
    },
    {
      "cell_type": "markdown",
      "source": [
        "27. Use uma função lambda para converter todos os números de uma lista para seus valores absolutos."
      ],
      "metadata": {
        "id": "nkrtm7AEJTrk"
      }
    },
    {
      "cell_type": "code",
      "source": [
        "try:\n",
        "    numeros = input(\"Digite uma lista de números inteiros separados por espaço: \").split()\n",
        "    numeros = [int(num) for num in numeros]\n",
        "\n",
        "    # Converte todos os números para seus valores absolutos\n",
        "    absolutos = list(map(lambda x: abs(x), numeros))\n",
        "\n",
        "    print(f\"A lista de números que você digitou foi: {numeros}\")\n",
        "    print(f\"A lista com os valores absolutos é: {absolutos}\")\n",
        "\n",
        "except ValueError:\n",
        "    print(\"Oops! Parece que você não digitou apenas números inteiros. Tente novamente.\")\n",
        "\n"
      ],
      "metadata": {
        "colab": {
          "base_uri": "https://localhost:8080/"
        },
        "id": "FTUAmsdVJTPx",
        "outputId": "64e04a16-d9dd-4aa4-b71b-99190c01dd5f"
      },
      "execution_count": 41,
      "outputs": [
        {
          "output_type": "stream",
          "name": "stdout",
          "text": [
            "Digite uma lista de números inteiros separados por espaço: -5 -10 10 9 8\n",
            "A lista de números que você digitou foi: [-5, -10, 10, 9, 8]\n",
            "A lista com os valores absolutos é: [5, 10, 10, 9, 8]\n"
          ]
        }
      ]
    },
    {
      "cell_type": "markdown",
      "source": [
        "28. Use uma função lambda para retornar uma lista com o resto da divisão de cada elemento por 3."
      ],
      "metadata": {
        "id": "kmq4OOXBJlLp"
      }
    },
    {
      "cell_type": "code",
      "source": [
        "try:\n",
        "    numeros = input(\"Digite uma lista de números inteiros separados por espaço: \").split()\n",
        "    numeros = [int(num) for num in numeros]\n",
        "\n",
        "\n",
        "    restos = list(map(lambda x: x % 3, numeros))\n",
        "\n",
        "    print(f\"A lista de números que você digitou foi: {numeros}\")\n",
        "    print(f\"A lista com os restos da divisão por 3 é: {restos}\")\n",
        "\n",
        "except ValueError:\n",
        "    print(\"Oops! Parece que você não digitou apenas números inteiros. Tente novamente.\")\n"
      ],
      "metadata": {
        "colab": {
          "base_uri": "https://localhost:8080/"
        },
        "id": "TEwEl233JnZk",
        "outputId": "4850001c-5e49-4e3e-8950-3ab039f55e2a"
      },
      "execution_count": 42,
      "outputs": [
        {
          "output_type": "stream",
          "name": "stdout",
          "text": [
            "Digite uma lista de números inteiros separados por espaço: 13 10 9 6 3 1\n",
            "A lista de números que você digitou foi: [13, 10, 9, 6, 3, 1]\n",
            "A lista com os restos da divisão por 3 é: [1, 1, 0, 0, 0, 1]\n"
          ]
        }
      ]
    },
    {
      "cell_type": "markdown",
      "source": [
        "29. Dada uma lista de números, use uma função lambda para multiplicar cada elemento pelo seu índice."
      ],
      "metadata": {
        "id": "KvpkMOH0JvF9"
      }
    },
    {
      "cell_type": "code",
      "source": [
        "try:\n",
        "    numeros = input(\"Digite uma lista de números inteiros separados por espaço: \").split()\n",
        "    numeros = [int(num) for num in numeros]\n",
        "\n",
        "\n",
        "    multiplicados = list(map(lambda x, idx: x * idx, numeros, range(len(numeros))))\n",
        "\n",
        "    print(f\"A lista de números que você digitou foi: {numeros}\")\n",
        "    print(f\"A lista com os elementos multiplicados pelo índice é: {multiplicados}\")\n",
        "\n",
        "except ValueError:\n",
        "    print(\"Oops! Parece que você não digitou apenas números inteiros. Tente novamente.\")\n"
      ],
      "metadata": {
        "colab": {
          "base_uri": "https://localhost:8080/"
        },
        "id": "8_QHzUoOJylr",
        "outputId": "4699b584-aed4-47d0-bd87-a65e8c818b26"
      },
      "execution_count": 43,
      "outputs": [
        {
          "output_type": "stream",
          "name": "stdout",
          "text": [
            "Digite uma lista de números inteiros separados por espaço: 1 2 3 4 5\n",
            "A lista de números que você digitou foi: [1, 2, 3, 4, 5]\n",
            "A lista com os elementos multiplicados pelo índice é: [0, 2, 6, 12, 20]\n"
          ]
        }
      ]
    },
    {
      "cell_type": "markdown",
      "source": [
        "30. Use uma função lambda para verificar se uma palavra dada é um palíndromo (retornando True ou False).\n"
      ],
      "metadata": {
        "id": "ZnQutisZJ6ge"
      }
    },
    {
      "cell_type": "code",
      "source": [
        "try:\n",
        "    palavra = input(\"Digite uma palavra para verificar se é um palíndromo: \")\n",
        "\n",
        "\n",
        "    is_palindromo = lambda p: p == p[::-1]\n",
        "\n",
        "    if is_palindromo(palavra):\n",
        "        print(f\"A palavra '{palavra}' é um palíndromo!\")\n",
        "    else:\n",
        "        print(f\"A palavra '{palavra}' não é um palíndromo.\")\n",
        "\n",
        "except ValueError:\n",
        "    print(\"Oops! Parece que houve um erro. Tente novamente.\")\n"
      ],
      "metadata": {
        "colab": {
          "base_uri": "https://localhost:8080/"
        },
        "id": "DNtGeLLYJ9UW",
        "outputId": "284d08fa-3e85-43b9-ab56-f737536e941f"
      },
      "execution_count": 44,
      "outputs": [
        {
          "output_type": "stream",
          "name": "stdout",
          "text": [
            "Digite uma palavra para verificar se é um palíndromo: Libertadores\n",
            "A palavra 'Libertadores' não é um palíndromo.\n"
          ]
        }
      ]
    }
  ]
}